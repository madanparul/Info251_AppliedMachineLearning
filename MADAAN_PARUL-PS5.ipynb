{
 "cells": [
  {
   "cell_type": "markdown",
   "metadata": {},
   "source": [
    "# Problem Set 5\n",
    "\n",
    "As usual, you are highly encouraged to *start this problem set early!*  My best guess (no guarantees!) is that Part 1 will be conceptually easy but perhaps time consuming.  Parts 2 and 3 are medium difficult, but there are plenty of opportunities to get confused with python data structures, so if you're going to get stuck, get stuck (and unstuck) early!\n",
    "\n",
    "Note that the two extra credit problems have the potential to be quite challenging and time consuming. Make sure to do everything else in the problem set before you tackle the extra credit.\n",
    "\n",
    "To get started, download the files \"reviews.csv\" and \"movies.dat\" from Canvas.\n",
    "\n",
    "For this assignment, the following libraries may be useful:\n",
    "\n",
    "* [numpy](http://docs.scipy.org/doc/numpy-dev/user/index.html), for arrays\n",
    "* [scikit-learn](http://scikit-learn.org/stable/), for machine learning\n",
    "* [pandas](http://pandas.pydata.org/), for data frames\n",
    "* [matplotlib](http://matplotlib.org/), for plotting\n",
    "\n",
    "In particular, I suggest you familiarize yourself with the following aspects of these libraries, which are not required but which might make your life easier:\n",
    "\n",
    "* `DataFrame` and other basic [data structures](http://pandas.pydata.org/pandas-docs/stable/dsintro.html) in pandas\n",
    "* [`groupby`](http://pandas.pydata.org/pandas-docs/stable/groupby.html), `unique`,  and other simple aggregation functions\n",
    "* [`CountVectorizer`](http://scikit-learn.org/stable/modules/generated/sklearn.feature_extraction.text.CountVectorizer.html) for working with text in sklearn.\n",
    "* [`MultinomialNB`](http://scikit-learn.org/stable/modules/generated/sklearn.naive_bayes.MultinomialNB.html) for Naive Bayes\n",
    "* Simple tools for [Cross-Validation](http://scikit-learn.org/stable/modules/cross_validation.html) in sklearn\n",
    "\n",
    "Make sure they load properly with the following code block:"
   ]
  },
  {
   "cell_type": "code",
   "execution_count": 2,
   "metadata": {},
   "outputs": [],
   "source": [
    "%matplotlib inline\n",
    "import pandas as pd\n",
    "import numpy as np\n",
    "import matplotlib.pyplot as plt\n",
    "import warnings\n",
    "warnings.filterwarnings('ignore')\n",
    "\n",
    "#hint: Consult the scikit-learn documentation to\n",
    "#      learn about what these classes do do\n",
    "from sklearn.model_selection import cross_val_score\n",
    "from sklearn.model_selection import train_test_split\n",
    "from sklearn.naive_bayes import MultinomialNB\n",
    "from sklearn.feature_extraction.text import CountVectorizer\n",
    "import statsmodels.formula.api as smf\n",
    "from sklearn.metrics import mean_squared_error\n",
    "from sklearn.preprocessing import StandardScaler\n",
    "from sklearn.decomposition import PCA "
   ]
  },
  {
   "cell_type": "markdown",
   "metadata": {},
   "source": [
    "## Introduction to the assignment\n",
    "\n",
    "In this assignment, you'll be analyzing movie reviews in an attempt to determine whether movies are good or bad.  I've downloaded a large number of movie reviews from the [Rotten Tomatoes](http://www.rottentomatoes.com) website, which are available in the file \"reviews.csv\" on Canvas.  I've also put a file \"movies.dat\" on Canvas that contains metadata for ~65,000 different movies\n",
    "\n",
    "If you've never seen Rotten Tomatoes before, go spend a few minutes familiarizing yourself with the website.  It's a meta-review website that aggregates movie reviews from a large number of critics.  Here's what the page for this year's [Oscar winner](https://www.rottentomatoes.com/m/the_shape_of_water_2017) looks like.  Note in particular the section on \"Critic Reviews\" at the bottom -- that's the content that has been scraped and put in the reviews.csv file.  Also note that each movie is given a quantitative score on the Tomatometer which is used to classify the movie as either Fresh (good) or Rotten (bad).\n",
    "\n",
    "Your mission is to develop a classifier to determine whether a movie is Fresh or Rotten based on the contents of the reviews given to the movie.  As usual, we'll start out with some exploratory data analysis."
   ]
  },
  {
   "cell_type": "markdown",
   "metadata": {},
   "source": [
    "---\n",
    "\n",
    "## Part 1: Descriptive analysis\n",
    "\n",
    "Before beginning the \"real\" work, dig into the data a bit do see what you're dealing with.  Begin by loading the datasets and dropping rows that have missing data:"
   ]
  },
  {
   "cell_type": "code",
   "execution_count": 3,
   "metadata": {},
   "outputs": [],
   "source": [
    "reviews = pd.read_csv('reviews.csv')\n",
    "movies = pd.read_csv(\"movies.dat\", delimiter='\\t')\n",
    "\n",
    "reviews = reviews[~reviews.quote.isnull()]\n",
    "reviews = reviews[reviews.fresh != 'none']\n",
    "reviews = reviews[reviews.quote.str.len() > 0]\n",
    "reviews = reviews.reset_index(drop=True)"
   ]
  },
  {
   "cell_type": "markdown",
   "metadata": {},
   "source": [
    "### 1.1: Basic features of the dataset\n",
    "\n",
    "Answer the following questions by having your python code directly print the answers:\n",
    "\n",
    "* How many unique reviews (quotes) are in the `reviews` dataset?\n",
    "* How many unique reviewers (critics) are in the `reviews` dataset?\n",
    "* How many unique movies are in the `reviews` dataset?\n",
    "* How many unique movies are in the *`movies`* dataset?\n",
    "* How many different publications have reviews in the `reviews` dataset?\n"
   ]
  },
  {
   "cell_type": "code",
   "execution_count": 7,
   "metadata": {},
   "outputs": [
    {
     "name": "stdout",
     "output_type": "stream",
     "text": [
      "Number of unique reviews (quotes): 12814 \n",
      "Number of unique reviews (critics): 541 \n",
      "Number of unique movies in reviews dataset: 1720 \n",
      "Number of unique movies in movies dataset based on unique title: 9405 \n",
      "Number of unique movies in movies dataset based on ID: 9423 \n",
      "Number of different publications: 64 \n"
     ]
    }
   ],
   "source": [
    "# enter your code below\n",
    "print(\"Number of unique reviews (quotes): {} \".format(len(reviews['quote'].unique())))\n",
    "print(\"Number of unique reviews (critics): {} \".format(len(reviews['critic'].unique())))\n",
    "print(\"Number of unique movies in reviews dataset: {} \".format(len(reviews['title'].unique())))\n",
    "print(\"Number of unique movies in movies dataset based on unique title: {} \".format(len(movies['title'].unique())))\n",
    "print(\"Number of unique movies in movies dataset based on ID: {} \".format(len(movies['imdbID'].unique())))\n",
    "print(\"Number of different publications: {} \".format(len(reviews['publication'].unique())))"
   ]
  },
  {
   "cell_type": "markdown",
   "metadata": {},
   "source": [
    "### 1.2 Number of reviews per reviewer\n",
    "\n",
    "Using the `reviews` dataset, create a histogram showing the distribution of the number of reviews per reviewer.  Create the bin width (x-axis) to be 1 unit wide, and the range of the axis to be from 0 to 30.  Scale the y-axis to show the logarithm of (count of) the number of reviewers.  Label your axes and make your histogram look professional."
   ]
  },
  {
   "cell_type": "code",
   "execution_count": 8,
   "metadata": {},
   "outputs": [
    {
     "data": {
      "image/png": "[encoded data removed]",
      "text/plain": [
       "<Figure size 504x360 with 1 Axes>"
      ]
     },
     "metadata": {
      "needs_background": "light"
     },
     "output_type": "display_data"
    }
   ],
   "source": [
    "critic_count= reviews['critic'].value_counts()\n",
    "\n",
    "fig, ax = plt.subplots(figsize=(7,5))\n",
    "\n",
    "bins = np.arange(0,np.max(critic_count)+1)\n",
    "ax.hist(critic_count, bins=bins, log=True)\n",
    "ax.set_xlim(0,30)\n",
    "ax.set_xlabel('Number of reviews per reviewer')\n",
    "ax.set_ylabel('Log(count) of number of reviewers')\n",
    "ax.set_title(\"Distribution of Number of reviews per reviewer\");"
   ]
  },
  {
   "cell_type": "markdown",
   "metadata": {},
   "source": [
    "### 1.3 Zoom in on a few reviewers\n",
    "Find the 30 critics with the most reviews, and list their names in a table along with (a) the name of the publication they work for, (b) the date of their first review, and (c) the date of their last review\n",
    "\n",
    "*hint: use the groupby function to do this quickly*"
   ]
  },
  {
   "cell_type": "code",
   "execution_count": 9,
   "metadata": {},
   "outputs": [
    {
     "data": {
      "text/html": [
       "<div>\n",
       "<style scoped>\n",
       "    .dataframe tbody tr th:only-of-type {\n",
       "        vertical-align: middle;\n",
       "    }\n",
       "\n",
       "    .dataframe tbody tr th {\n",
       "        vertical-align: top;\n",
       "    }\n",
       "\n",
       "    .dataframe thead th {\n",
       "        text-align: right;\n",
       "    }\n",
       "</style>\n",
       "<table border=\"1\" class=\"dataframe\">\n",
       "  <thead>\n",
       "    <tr style=\"text-align: right;\">\n",
       "      <th></th>\n",
       "      <th>Critic</th>\n",
       "      <th>ReviewsCount</th>\n",
       "      <th>Publication</th>\n",
       "      <th>FirstReviewDate</th>\n",
       "      <th>LastReviewDate</th>\n",
       "    </tr>\n",
       "  </thead>\n",
       "  <tbody>\n",
       "    <tr>\n",
       "      <th>0</th>\n",
       "      <td>Roger Ebert</td>\n",
       "      <td>1150</td>\n",
       "      <td>Chicago Sun-Times</td>\n",
       "      <td>2000-01-01 00:00:00</td>\n",
       "      <td>2013-06-11 00:00:00</td>\n",
       "    </tr>\n",
       "    <tr>\n",
       "      <th>1</th>\n",
       "      <td>James Berardinelli</td>\n",
       "      <td>833</td>\n",
       "      <td>ReelViews</td>\n",
       "      <td>1800-01-01 00:00:00</td>\n",
       "      <td>2012-02-07 00:00:00</td>\n",
       "    </tr>\n",
       "    <tr>\n",
       "      <th>2</th>\n",
       "      <td>Janet Maslin</td>\n",
       "      <td>526</td>\n",
       "      <td>New York Times</td>\n",
       "      <td>2000-01-01 00:00:00</td>\n",
       "      <td>2010-09-07 00:00:00</td>\n",
       "    </tr>\n",
       "    <tr>\n",
       "      <th>3</th>\n",
       "      <td>Variety Staff</td>\n",
       "      <td>449</td>\n",
       "      <td>Variety</td>\n",
       "      <td>2001-02-13 00:00:00</td>\n",
       "      <td>2012-08-15 00:00:00</td>\n",
       "    </tr>\n",
       "    <tr>\n",
       "      <th>4</th>\n",
       "      <td>Jonathan Rosenbaum</td>\n",
       "      <td>420</td>\n",
       "      <td>Chicago Reader</td>\n",
       "      <td>1988-07-11 00:00:00</td>\n",
       "      <td>2013-10-22 00:00:00</td>\n",
       "    </tr>\n",
       "    <tr>\n",
       "      <th>5</th>\n",
       "      <td>Desson Thomson</td>\n",
       "      <td>373</td>\n",
       "      <td>Washington Post</td>\n",
       "      <td>2000-01-01 00:00:00</td>\n",
       "      <td>2012-10-08 00:00:00</td>\n",
       "    </tr>\n",
       "    <tr>\n",
       "      <th>6</th>\n",
       "      <td>Geoff Andrew</td>\n",
       "      <td>361</td>\n",
       "      <td>Time Out</td>\n",
       "      <td>2005-08-11 00:00:00</td>\n",
       "      <td>2012-04-05 00:00:00</td>\n",
       "    </tr>\n",
       "    <tr>\n",
       "      <th>7</th>\n",
       "      <td>Dave Kehr</td>\n",
       "      <td>360</td>\n",
       "      <td>Chicago Reader</td>\n",
       "      <td>2000-01-01 00:00:00</td>\n",
       "      <td>2013-11-20 00:00:00</td>\n",
       "    </tr>\n",
       "    <tr>\n",
       "      <th>8</th>\n",
       "      <td>Kenneth Turan</td>\n",
       "      <td>282</td>\n",
       "      <td>Los Angeles Times</td>\n",
       "      <td>2000-01-01 00:00:00</td>\n",
       "      <td>2013-10-05 00:00:00</td>\n",
       "    </tr>\n",
       "    <tr>\n",
       "      <th>9</th>\n",
       "      <td>Mick LaSalle</td>\n",
       "      <td>280</td>\n",
       "      <td>San Francisco Chronicle</td>\n",
       "      <td>2000-01-01 00:00:00</td>\n",
       "      <td>2009-11-25 00:00:00</td>\n",
       "    </tr>\n",
       "    <tr>\n",
       "      <th>10</th>\n",
       "      <td>Owen Gleiberman</td>\n",
       "      <td>241</td>\n",
       "      <td>Entertainment Weekly</td>\n",
       "      <td>1800-01-01 00:00:00</td>\n",
       "      <td>2011-09-07 00:00:00</td>\n",
       "    </tr>\n",
       "    <tr>\n",
       "      <th>11</th>\n",
       "      <td>Rita Kempley</td>\n",
       "      <td>236</td>\n",
       "      <td>Washington Post</td>\n",
       "      <td>2000-01-01 00:00:00</td>\n",
       "      <td>2013-11-02 00:00:00</td>\n",
       "    </tr>\n",
       "    <tr>\n",
       "      <th>12</th>\n",
       "      <td>Joe Baltake</td>\n",
       "      <td>231</td>\n",
       "      <td>Sacramento Bee</td>\n",
       "      <td>2000-01-01 00:00:00</td>\n",
       "      <td>2013-08-04 00:00:00</td>\n",
       "    </tr>\n",
       "    <tr>\n",
       "      <th>13</th>\n",
       "      <td>Todd McCarthy</td>\n",
       "      <td>223</td>\n",
       "      <td>Variety</td>\n",
       "      <td>2000-01-01 00:00:00</td>\n",
       "      <td>2012-10-09 00:00:00</td>\n",
       "    </tr>\n",
       "    <tr>\n",
       "      <th>14</th>\n",
       "      <td>Vincent Canby</td>\n",
       "      <td>207</td>\n",
       "      <td>New York Times</td>\n",
       "      <td>2000-01-01 00:00:00</td>\n",
       "      <td>2013-07-29 00:00:00</td>\n",
       "    </tr>\n",
       "    <tr>\n",
       "      <th>15</th>\n",
       "      <td>Hal Hinson</td>\n",
       "      <td>174</td>\n",
       "      <td>Washington Post</td>\n",
       "      <td>2000-01-01 00:00:00</td>\n",
       "      <td>2013-06-26 00:00:00</td>\n",
       "    </tr>\n",
       "    <tr>\n",
       "      <th>16</th>\n",
       "      <td>Susan Stark</td>\n",
       "      <td>167</td>\n",
       "      <td>Detroit News</td>\n",
       "      <td>2000-01-01 00:00:00</td>\n",
       "      <td>2002-10-25 00:00:00</td>\n",
       "    </tr>\n",
       "    <tr>\n",
       "      <th>17</th>\n",
       "      <td>Stephen Holden</td>\n",
       "      <td>166</td>\n",
       "      <td>New York Times</td>\n",
       "      <td>2000-01-01 00:00:00</td>\n",
       "      <td>2009-02-06 00:00:00</td>\n",
       "    </tr>\n",
       "    <tr>\n",
       "      <th>18</th>\n",
       "      <td>Derek Adams</td>\n",
       "      <td>154</td>\n",
       "      <td>Time Out</td>\n",
       "      <td>2006-01-26 00:00:00</td>\n",
       "      <td>2009-10-04 00:00:00</td>\n",
       "    </tr>\n",
       "    <tr>\n",
       "      <th>19</th>\n",
       "      <td>Kevin Thomas</td>\n",
       "      <td>145</td>\n",
       "      <td>Los Angeles Times</td>\n",
       "      <td>2000-01-01 00:00:00</td>\n",
       "      <td>2013-11-02 00:00:00</td>\n",
       "    </tr>\n",
       "    <tr>\n",
       "      <th>20</th>\n",
       "      <td>Peter Stack</td>\n",
       "      <td>138</td>\n",
       "      <td>San Francisco Chronicle</td>\n",
       "      <td>2000-01-01 00:00:00</td>\n",
       "      <td>2002-06-18 00:00:00</td>\n",
       "    </tr>\n",
       "    <tr>\n",
       "      <th>21</th>\n",
       "      <td>Bosley Crowther</td>\n",
       "      <td>137</td>\n",
       "      <td>New York Times</td>\n",
       "      <td>2000-01-01 00:00:00</td>\n",
       "      <td>2008-05-06 00:00:00</td>\n",
       "    </tr>\n",
       "    <tr>\n",
       "      <th>22</th>\n",
       "      <td>Rick Groen</td>\n",
       "      <td>129</td>\n",
       "      <td>Globe and Mail</td>\n",
       "      <td>2002-03-19 00:00:00</td>\n",
       "      <td>2009-08-14 00:00:00</td>\n",
       "    </tr>\n",
       "    <tr>\n",
       "      <th>23</th>\n",
       "      <td>Edward Guthmann</td>\n",
       "      <td>121</td>\n",
       "      <td>San Francisco Chronicle</td>\n",
       "      <td>2000-01-01 00:00:00</td>\n",
       "      <td>2003-04-04 00:00:00</td>\n",
       "    </tr>\n",
       "    <tr>\n",
       "      <th>24</th>\n",
       "      <td>Lisa Schwarzbaum</td>\n",
       "      <td>117</td>\n",
       "      <td>Entertainment Weekly</td>\n",
       "      <td>1979-01-01 00:00:00</td>\n",
       "      <td>2012-08-15 00:00:00</td>\n",
       "    </tr>\n",
       "    <tr>\n",
       "      <th>25</th>\n",
       "      <td>Liam Lacey</td>\n",
       "      <td>111</td>\n",
       "      <td>Globe and Mail</td>\n",
       "      <td>2001-08-24 00:00:00</td>\n",
       "      <td>2012-04-04 00:00:00</td>\n",
       "    </tr>\n",
       "    <tr>\n",
       "      <th>26</th>\n",
       "      <td>Emanuel Levy</td>\n",
       "      <td>110</td>\n",
       "      <td>Variety</td>\n",
       "      <td>2000-01-01 00:00:00</td>\n",
       "      <td>2010-08-06 00:00:00</td>\n",
       "    </tr>\n",
       "    <tr>\n",
       "      <th>27</th>\n",
       "      <td>Richard Schickel</td>\n",
       "      <td>106</td>\n",
       "      <td>The Atlantic</td>\n",
       "      <td>2000-01-01 00:00:00</td>\n",
       "      <td>2013-08-05 00:00:00</td>\n",
       "    </tr>\n",
       "    <tr>\n",
       "      <th>28</th>\n",
       "      <td>Richard Corliss</td>\n",
       "      <td>104</td>\n",
       "      <td>TIME Magazine</td>\n",
       "      <td>2003-12-16 00:00:00</td>\n",
       "      <td>2013-11-06 00:00:00</td>\n",
       "    </tr>\n",
       "    <tr>\n",
       "      <th>29</th>\n",
       "      <td>Michael Wilmington</td>\n",
       "      <td>103</td>\n",
       "      <td>Chicago Tribune</td>\n",
       "      <td>2000-01-01 00:00:00</td>\n",
       "      <td>2013-11-21 00:00:00</td>\n",
       "    </tr>\n",
       "  </tbody>\n",
       "</table>\n",
       "</div>"
      ],
      "text/plain": [
       "                Critic  ReviewsCount              Publication  \\\n",
       "0          Roger Ebert          1150        Chicago Sun-Times   \n",
       "1   James Berardinelli           833                ReelViews   \n",
       "2         Janet Maslin           526           New York Times   \n",
       "3        Variety Staff           449                  Variety   \n",
       "4   Jonathan Rosenbaum           420           Chicago Reader   \n",
       "5       Desson Thomson           373          Washington Post   \n",
       "6         Geoff Andrew           361                 Time Out   \n",
       "7            Dave Kehr           360           Chicago Reader   \n",
       "8        Kenneth Turan           282        Los Angeles Times   \n",
       "9         Mick LaSalle           280  San Francisco Chronicle   \n",
       "10     Owen Gleiberman           241     Entertainment Weekly   \n",
       "11        Rita Kempley           236          Washington Post   \n",
       "12         Joe Baltake           231           Sacramento Bee   \n",
       "13       Todd McCarthy           223                  Variety   \n",
       "14       Vincent Canby           207           New York Times   \n",
       "15          Hal Hinson           174          Washington Post   \n",
       "16         Susan Stark           167             Detroit News   \n",
       "17      Stephen Holden           166           New York Times   \n",
       "18         Derek Adams           154                 Time Out   \n",
       "19        Kevin Thomas           145        Los Angeles Times   \n",
       "20         Peter Stack           138  San Francisco Chronicle   \n",
       "21     Bosley Crowther           137           New York Times   \n",
       "22          Rick Groen           129           Globe and Mail   \n",
       "23     Edward Guthmann           121  San Francisco Chronicle   \n",
       "24    Lisa Schwarzbaum           117     Entertainment Weekly   \n",
       "25          Liam Lacey           111           Globe and Mail   \n",
       "26        Emanuel Levy           110                  Variety   \n",
       "27    Richard Schickel           106             The Atlantic   \n",
       "28     Richard Corliss           104            TIME Magazine   \n",
       "29  Michael Wilmington           103          Chicago Tribune   \n",
       "\n",
       "        FirstReviewDate       LastReviewDate  \n",
       "0   2000-01-01 00:00:00  2013-06-11 00:00:00  \n",
       "1   1800-01-01 00:00:00  2012-02-07 00:00:00  \n",
       "2   2000-01-01 00:00:00  2010-09-07 00:00:00  \n",
       "3   2001-02-13 00:00:00  2012-08-15 00:00:00  \n",
       "4   1988-07-11 00:00:00  2013-10-22 00:00:00  \n",
       "5   2000-01-01 00:00:00  2012-10-08 00:00:00  \n",
       "6   2005-08-11 00:00:00  2012-04-05 00:00:00  \n",
       "7   2000-01-01 00:00:00  2013-11-20 00:00:00  \n",
       "8   2000-01-01 00:00:00  2013-10-05 00:00:00  \n",
       "9   2000-01-01 00:00:00  2009-11-25 00:00:00  \n",
       "10  1800-01-01 00:00:00  2011-09-07 00:00:00  \n",
       "11  2000-01-01 00:00:00  2013-11-02 00:00:00  \n",
       "12  2000-01-01 00:00:00  2013-08-04 00:00:00  \n",
       "13  2000-01-01 00:00:00  2012-10-09 00:00:00  \n",
       "14  2000-01-01 00:00:00  2013-07-29 00:00:00  \n",
       "15  2000-01-01 00:00:00  2013-06-26 00:00:00  \n",
       "16  2000-01-01 00:00:00  2002-10-25 00:00:00  \n",
       "17  2000-01-01 00:00:00  2009-02-06 00:00:00  \n",
       "18  2006-01-26 00:00:00  2009-10-04 00:00:00  \n",
       "19  2000-01-01 00:00:00  2013-11-02 00:00:00  \n",
       "20  2000-01-01 00:00:00  2002-06-18 00:00:00  \n",
       "21  2000-01-01 00:00:00  2008-05-06 00:00:00  \n",
       "22  2002-03-19 00:00:00  2009-08-14 00:00:00  \n",
       "23  2000-01-01 00:00:00  2003-04-04 00:00:00  \n",
       "24  1979-01-01 00:00:00  2012-08-15 00:00:00  \n",
       "25  2001-08-24 00:00:00  2012-04-04 00:00:00  \n",
       "26  2000-01-01 00:00:00  2010-08-06 00:00:00  \n",
       "27  2000-01-01 00:00:00  2013-08-05 00:00:00  \n",
       "28  2003-12-16 00:00:00  2013-11-06 00:00:00  \n",
       "29  2000-01-01 00:00:00  2013-11-21 00:00:00  "
      ]
     },
     "execution_count": 9,
     "metadata": {},
     "output_type": "execute_result"
    }
   ],
   "source": [
    "req = reviews.copy()\n",
    "req = req.sort_values('review_date').groupby('critic').agg({'fresh':['count'],'publication': ['first'], 'review_date': ['first', 'last']})\n",
    "req.columns = req.columns.droplevel(1)\n",
    "req = req.reset_index()\n",
    "req.columns = ['Critic','ReviewsCount','Publication','FirstReviewDate','LastReviewDate']\n",
    "req = req.sort_values('ReviewsCount',ascending=False).head(30).reset_index(drop=True)\n",
    "req"
   ]
  },
  {
   "cell_type": "markdown",
   "metadata": {},
   "source": [
    "### 1.4 Ratings over time\n",
    "\n",
    "Using the `movies` dataset, create a plot that shows how the average rating per movie (rtAllCriticsRating) has evolved over time.  Do this by creating a scatterplot where the x-axis is the year in which the movie was released and the y-axis is rtAllCriticsRating.  Drop movies with 0 or unknown values to avoid biasing your results.  Then, create a scatterplot that has one <year,rating> point for each remaining movie, and pick an appropriate size/color/transparency for these points to ensure that the graph looks professional.  In other words, do not simply use the default settings, as this will produce a dense mess of dots that will be hard to interpret.  Finally, overlay on this scatterplot a line graph in orange showing how the average movie rating (the average of rtAllCriticsRating across all movies in a year) has changed over time.  Do you notice a trend?  What do you think it means?"
   ]
  },
  {
   "cell_type": "code",
   "execution_count": 10,
   "metadata": {},
   "outputs": [
    {
     "data": {
      "image/png": "[encoded data removed]",
      "text/plain": [
       "<Figure size 504x360 with 1 Axes>"
      ]
     },
     "metadata": {
      "needs_background": "light"
     },
     "output_type": "display_data"
    }
   ],
   "source": [
    "req_data = movies[(movies.rtAllCriticsRating != '\\\\N') & (movies.rtAllCriticsRating != \"0\")]\n",
    "req_data['rtAllCriticsRating'] = req_data['rtAllCriticsRating'].astype(float)\n",
    "meanRating_year = req_data.groupby('year')['rtAllCriticsRating'].mean()\n",
    "\n",
    "fig, ax = plt.subplots(figsize=(7,5))\n",
    "\n",
    "ax.scatter(req_data['year'], req_data['rtAllCriticsRating'], alpha=0.05, c='C4', label='Data Points')\n",
    "ax.plot(meanRating_year.index, meanRating_year, c='C1', label='Yearly Mean Rating')\n",
    "ax.legend()\n",
    "ax.set_xlabel('Year')\n",
    "ax.set_ylabel('Average Annual Rating')\n",
    "ax.set_title('Ratings Over Time');"
   ]
  },
  {
   "cell_type": "markdown",
   "metadata": {},
   "source": [
    "There seems to be an overall decreasing trend in the average annual rating of the movies. It somehow implies that over the period of time, either the quality of the movies being made have degraded or the critics have become more stickler.   "
   ]
  },
  {
   "cell_type": "markdown",
   "metadata": {},
   "source": [
    "---\n",
    "\n",
    "## Part 2: Naive Bayes\n",
    "\n",
    "Now it gets fun!  You are going to use a [Naive Bayes classifier](https://en.wikipedia.org/wiki/Naive_Bayes_classifier) to build a prediction model for whether a review is fresh or rotten, depending on the text of the review. Review the assigned readings on Canvas, as well as the relevant lecture notes before embarking on this journey.\n",
    "\n",
    "### Using CountVectorizer\n",
    "\n",
    "One thing that may help you in the following problems is the [CountVectorizer](http://scikit-learn.org/stable/modules/generated/sklearn.feature_extraction.text.CountVectorizer.html) object in Scikit-learn.  This will help you convert your raw text fields into \"bag of words\" vectors, i.e. a data structure that tells you how many times a particular word appears in a blurb.  Here's a simple example, make sure you understand what's going on!"
   ]
  },
  {
   "cell_type": "code",
   "execution_count": 11,
   "metadata": {},
   "outputs": [
    {
     "name": "stdout",
     "output_type": "stream",
     "text": [
      "Original text is\n",
      " machine learning rocks\n",
      "machine learning rules\n",
      "rocks rocks rules\n",
      "\n",
      "Transformed text vector is \n",
      " [[1 1 1 0]\n",
      " [1 1 0 1]\n",
      " [0 0 2 1]]\n",
      "\n",
      "Words for each feature:\n",
      "['learning', 'machine', 'rocks', 'rules']\n"
     ]
    }
   ],
   "source": [
    "from sklearn.feature_extraction.text import CountVectorizer\n",
    "\n",
    "text = ['machine learning rocks', 'machine learning rules', 'rocks rocks rules']\n",
    "print(\"Original text is\\n\", '\\n'.join(text))\n",
    "print()\n",
    "vectorizer = CountVectorizer(min_df=0)\n",
    "\n",
    "# call `fit` to build the vocabulary\n",
    "vectorizer.fit(text)\n",
    "\n",
    "# call `transform` to convert text to a bag of words\n",
    "x = vectorizer.transform(text)\n",
    "\n",
    "# CountVectorizer uses a sparse array to save memory, but it's easier in this assignment to \n",
    "# convert back to a \"normal\" numpy array\n",
    "x = x.toarray()\n",
    "\n",
    "print(\"Transformed text vector is \\n\", x)\n",
    "print()\n",
    "# `get_feature_names` tracks which word is associated with each column of the transformed x\n",
    "print(\"Words for each feature:\")\n",
    "print(vectorizer.get_feature_names())"
   ]
  },
  {
   "cell_type": "markdown",
   "metadata": {},
   "source": [
    "### 2.1 Create your X input and Y output\n",
    "\n",
    "Using the `reviews` dataframe, compute a pair of numerical X, Y arrays where:\n",
    "    \n",
    " * X is a `(nreview, nwords)` array. Each row corresponds to a bag-of-words representation for a single review. This will be the *input* to your model.\n",
    " * Y is a `nreview`-element 1/0 array, encoding whether a review is Fresh (1) or Rotten (0). This is the desired *output* from your model.\n",
    " \n",
    "Make sure to remove items with no review text"
   ]
  },
  {
   "cell_type": "code",
   "execution_count": 12,
   "metadata": {},
   "outputs": [],
   "source": [
    "\"\"\"\n",
    "Function\n",
    "--------\n",
    "make_xy\n",
    "\n",
    "Build a bag-of-words training set for the review data\n",
    "\n",
    "Parameters\n",
    "-----------\n",
    "reviews : Pandas DataFrame\n",
    "    The review data from above\n",
    "    \n",
    "vectorizer : CountVectorizer object (optional)\n",
    "    A CountVectorizer object to use. If None,\n",
    "    then create and fit a new CountVectorizer.\n",
    "    Otherwise, re-fit the provided CountVectorizer\n",
    "    using the reviews data\n",
    "    \n",
    "Returns\n",
    "-------\n",
    "X : numpy array (dims: nreview, nwords)\n",
    "    Bag-of-words representation for each review.\n",
    "Y : numpy array (dims: nreview)\n",
    "    1/0 array. 1 = fresh review, 0 = rotten review\n",
    "\n",
    "Examples\n",
    "--------\n",
    "X, Y = make_xy(reviews)\n",
    "\"\"\"\n",
    "def make_xy(reviews, vectorizer=None):\n",
    "    #Your code here \n",
    "    \n",
    "    Y = (reviews['fresh'] == 'fresh').astype(int)\n",
    "    \n",
    "    quotes = reviews['quote']\n",
    "    \n",
    "    if vectorizer == None:\n",
    "        vectorizer = CountVectorizer(min_df=0)\n",
    "        \n",
    "    vectorizer.fit(quotes)\n",
    "    X = vectorizer.transform(quotes)\n",
    "    X = X.toarray()\n",
    "    \n",
    "    return X, Y"
   ]
  },
  {
   "cell_type": "code",
   "execution_count": 13,
   "metadata": {},
   "outputs": [
    {
     "name": "stdout",
     "output_type": "stream",
     "text": [
      "(13419, 20875)\n",
      "(13419,)\n"
     ]
    }
   ],
   "source": [
    "X, Y = make_xy(reviews)\n",
    "print(np.shape(X))\n",
    "print(np.shape(Y))"
   ]
  },
  {
   "cell_type": "markdown",
   "metadata": {},
   "source": [
    "### 2.2 Test-Train split\n",
    "\n",
    "Next, randomly split the data into two groups: a training set (80%) and a validation set (20%).  You can do this manually, as you did in the prior problem set.  Or, use [`train_test_split`](http://scikit-learn.org/stable/modules/generated/sklearn.cross_validation.train_test_split.html) to do this auto-magically.  See [this guide](http://scikit-learn.org/stable/modules/cross_validation.html) for a simple example of how `train_test_split` works."
   ]
  },
  {
   "cell_type": "code",
   "execution_count": 28,
   "metadata": {},
   "outputs": [],
   "source": [
    "train, test = train_test_split(reviews, test_size=0.2, random_state=123)"
   ]
  },
  {
   "cell_type": "markdown",
   "metadata": {},
   "source": [
    "### 2.3 Naive Bayes with `MultinomialNB`\n",
    "Use the training set to train a Naive Bayes classifier using the [`MultinomialNB`](http://scikit-learn.org/stable/modules/generated/sklearn.naive_bayes.MultinomialNB.html)\n",
    " object.  Report the accuracy of this model on both the training and testing data.  What do you observe?  Interpret these results!\n",
    "\n",
    "*Hint: This shouldn't take more than 5-10 lines of code to accomplish*\n",
    "\n"
   ]
  },
  {
   "cell_type": "code",
   "execution_count": 29,
   "metadata": {},
   "outputs": [
    {
     "name": "stdout",
     "output_type": "stream",
     "text": [
      "Train accuracy = 0.9240\n",
      "Test  accuracy = 0.7813\n"
     ]
    }
   ],
   "source": [
    "X, Y = make_xy(reviews)\n",
    "\n",
    "# Initialize and fit the model\n",
    "fitted_model = MultinomialNB()\n",
    "fitted_model.fit(X[train.index], Y[train.index])\n",
    "\n",
    "# Predicting\n",
    "prediction_train = fitted_model.predict(X[train.index])\n",
    "prediction_test = fitted_model.predict(X[test.index])\n",
    "\n",
    "# Accuracy Computation\n",
    "train_accuracy = sum(prediction_train == Y[train.index])/len(prediction_train)\n",
    "test_accuracy = sum(prediction_test == Y[test.index])/len(prediction_test)\n",
    "\n",
    "print('Train accuracy = {:.4f}'.format(train_accuracy))\n",
    "print('Test  accuracy = {:.4f}'.format(test_accuracy))"
   ]
  },
  {
   "cell_type": "markdown",
   "metadata": {},
   "source": [
    "The model seems to be overfitted as the training accuracy is quite high (more than 90%), whereas the test accuracy is lower (aroung 77%)."
   ]
  },
  {
   "cell_type": "markdown",
   "metadata": {},
   "source": [
    "### 2.4 (EXTRA CREDIT) Naive Bayes from Scratch!\n",
    "That was almost too easy, right?  Right.\n",
    "\n",
    "Your next mission, should you choose to accept it, is to write your own Naive Bayes classifier without relying on `MultinomialNB` or a similar pre-written package.  In addition to the lecture notes and assigned readings, I highly recommend that you review Michael Collin’s lecture notes on Naïve Bayes before starting (available on bcourses).  \n",
    "\n",
    "**Note:**\n",
    "You should do this extra credit assignment *after* you have finished the rest of the problem set.  It is very rewarding, but can also be quite time-consuming!\n",
    "\n",
    "*Hint: You will benefit most from this exercise if you attempt to write the algorithm directly from the lecture notes.  That said, if you really get stuck, Krishnamurthy Viswanathan has written a simple version of [NB in python](http://ebiquity.umbc.edu/blogger/2010/12/07/naive-bayes-classifier-in-50-lines/), which you can peek at if you really get stuck.*"
   ]
  },
  {
   "cell_type": "code",
   "execution_count": null,
   "metadata": {
    "collapsed": true
   },
   "outputs": [],
   "source": [
    "# Your code here"
   ]
  },
  {
   "cell_type": "markdown",
   "metadata": {},
   "source": [
    "---\n",
    "\n",
    "## Part 3: Evaluation\n",
    "\n",
    "### 3.1 Estimate the likelihood of your data\n",
    "\n",
    "Given a fitted model, you can compute the log-likelihood of your data as a way to assess the performance of your model.  Using `fitted_model.predict_logproba`, the idea is to write a function that computes the log-likelihood of a dataset, so that we can inspect the log-likelihood of your training and testing data given your fitted model from part 2.\n",
    "\n",
    "To help you out a little bit, we'll do this part for you. But make sure you understand it, because you'll need to use this later!"
   ]
  },
  {
   "cell_type": "code",
   "execution_count": 16,
   "metadata": {},
   "outputs": [
    {
     "data": {
      "text/plain": [
       "-1470.0687829338465"
      ]
     },
     "execution_count": 16,
     "metadata": {},
     "output_type": "execute_result"
    }
   ],
   "source": [
    "\"\"\"\n",
    "Function\n",
    "--------\n",
    "log_likelihood\n",
    "\n",
    "Compute the log likelihood of a dataset according to a bayesian classifier. \n",
    "The Log Likelihood is defined by\n",
    "\n",
    "L = Sum_fresh(logP(fresh)) + Sum_rotten(logP(rotten))\n",
    "\n",
    "Where Sum_fresh indicates a sum over all fresh reviews, \n",
    "and Sum_rotten indicates a sum over rotten reviews\n",
    "    \n",
    "Parameters\n",
    "----------\n",
    "model : Bayesian classifier\n",
    "x : (nexample, nfeature) array\n",
    "    The input data\n",
    "y : (nexample) integer array\n",
    "    Whether each review is Fresh\n",
    "\"\"\"\n",
    "\n",
    "def log_likelihood(model, x, y):\n",
    "    prob = model.predict_log_proba(x)\n",
    "    rotten = y == 0\n",
    "    fresh = ~rotten\n",
    "    return prob[rotten, 0].sum() + prob[fresh, 1].sum()\n",
    "\n",
    "# output the likelihood of your test data (example - you may need to \n",
    "# change the names of the variables below to match your code in 2.2 and 2.3\n",
    "log_likelihood(fitted_model, X[test.index], Y[test.index])"
   ]
  },
  {
   "cell_type": "markdown",
   "metadata": {},
   "source": [
    "### 3.2 Cross-Validation\n",
    "\n",
    "Why do we care about the log-likelihood of our data?  You guessed it: Cross-Validation.\n",
    "\n",
    "Our classifier has a few hyperparameters. The two most important are:\n",
    "\n",
    " 1. The `min_df` keyword in `CountVectorizer`, which will ignore words which appear in fewer than `min_df` fraction of reviews. Words that appear only once or twice can lead to overfitting, since words which occur only a few times might correlate very well with Fresh/Rotten reviews by chance in the training dataset.\n",
    " \n",
    " 2. The [`alpha` keyword](http://scikit-learn.org/stable/modules/naive_bayes.html#multinomial-naive-bayes) in the Bayesian classifier is a \"smoothing parameter\" -- increasing the value decreases the sensitivity to any single feature, and tends to pull prediction probabilities closer to 50%. \n",
    "\n",
    "How are we are going to use cross-validation to tune these hyperparameters?  The objective function we want to maximize is the log-likelihood of our data.  Fill in the remaining code in this block, to loop over many values of `alpha` and `min_df` to determine\n",
    "which settings are \"best\" in the sense of maximizing the cross-validated log-likelihood.\n",
    "\n",
    "*hint: sklearn has a built-in function, `sklearn.cross_validation.cross_val_score`, that might save you a lot of time here...*"
   ]
  },
  {
   "cell_type": "code",
   "execution_count": 17,
   "metadata": {},
   "outputs": [
    {
     "name": "stdout",
     "output_type": "stream",
     "text": [
      "Best alpha          = 5.000\n",
      "Best min_df         = 0.0010\n",
      "Best log-likelihood = -1468.448\n"
     ]
    }
   ],
   "source": [
    "#the grid of parameters to search over\n",
    "alphas = [0, .1, 1, 5, 10, 50]\n",
    "min_dfs = [1e-5, 1e-4, 1e-3, 1e-2, 1e-1]\n",
    "\n",
    "#Find the best value for alpha and min_df, and the best classifier\n",
    "best_alpha = None\n",
    "best_min_df = None\n",
    "max_loglike = -np.inf\n",
    "\n",
    "for alpha in alphas:\n",
    "    for min_df in min_dfs:         \n",
    "        vectorizer = CountVectorizer(min_df = min_df)       \n",
    "        X, Y = make_xy(reviews, vectorizer)\n",
    "                    \n",
    "        # Initialize and fit the model\n",
    "        model = MultinomialNB(alpha=alpha)\n",
    "        scores = cross_val_score(model, X, Y,cv=5,scoring=log_likelihood)\n",
    "        \n",
    "        if np.mean(scores) > max_loglike:\n",
    "            max_loglike = np.mean(scores)\n",
    "            best_alpha = alpha\n",
    "            best_min_df = min_df\n",
    "            \n",
    "print('Best alpha          = {:.3f}'.format(best_alpha))\n",
    "print('Best min_df         = {:.4f}'.format(best_min_df))\n",
    "print('Best log-likelihood = {:.3f}'.format(max_loglike))"
   ]
  },
  {
   "cell_type": "markdown",
   "metadata": {},
   "source": [
    "### 3.3 Putting it together\n",
    "\n",
    "Now that you've determined values for alpha and min_df that optimize the cross-validated log-likelihood, repeat the steps in 2.1-2.3 to train a final classifier with these parameters and re-evaluate the accuracy.  Discuss the various ways in which Cross-Validation has affected the model. Is the new model more or less accurate? Is overfitting better or worse?"
   ]
  },
  {
   "cell_type": "code",
   "execution_count": 30,
   "metadata": {},
   "outputs": [
    {
     "name": "stdout",
     "output_type": "stream",
     "text": [
      "Train accuracy = 0.7940\n",
      "Test  accuracy = 0.7478\n"
     ]
    }
   ],
   "source": [
    "# Rebuild the model using best hyperparameters (alpha =5 and min_df=0.001)\n",
    "\n",
    "vectorizer = CountVectorizer(min_df=0.001)\n",
    "X, Y = make_xy(reviews,vectorizer)\n",
    "\n",
    "# Fitting the model with best hyperparameters\n",
    "fitted_model = MultinomialNB(alpha = 5)\n",
    "fitted_model.fit(X[train.index], Y[train.index])\n",
    "\n",
    "# Predicting\n",
    "prediction_train = fitted_model.predict(X[train.index])\n",
    "prediction_test = fitted_model.predict(X[test.index])\n",
    "\n",
    "# Accuracy Computation\n",
    "train_accuracy = sum(prediction_train == Y[train.index])/len(prediction_train)\n",
    "test_accuracy = sum(prediction_test == Y[test.index])/len(prediction_test)\n",
    "\n",
    "print('Train accuracy = {:.4f}'.format(train_accuracy))\n",
    "print('Test  accuracy = {:.4f}'.format(test_accuracy))"
   ]
  },
  {
   "cell_type": "markdown",
   "metadata": {},
   "source": [
    "By looking only at the training data, the accuracy has decreased (from 92% to 79%). However, the model seems to be more stable now. The overfitting has reduced. Tranining and Test accuracies are comparable. "
   ]
  },
  {
   "cell_type": "markdown",
   "metadata": {},
   "source": [
    "### 3.4 (Extra Credit)\n",
    "\n",
    "What happens if you tried this again using a function besides the log-likelihood -- for example, the classification accuracy?  Interpret these results"
   ]
  },
  {
   "cell_type": "code",
   "execution_count": 19,
   "metadata": {},
   "outputs": [
    {
     "name": "stdout",
     "output_type": "stream",
     "text": [
      "Best alpha          = 1.0000\n",
      "Best min_df         = 0.0000\n",
      "Best log-likelihood = -1468.4484\n",
      "Train accuracy = 0.9224\n",
      "Test  accuracy = 0.7731\n"
     ]
    }
   ],
   "source": [
    "#Finding Best parameters based on Classification Accuracy and computing the model's performance\n",
    "\n",
    "#the grid of parameters to search over\n",
    "alphas = [0, .1, 1, 5, 10, 50]\n",
    "min_dfs = [1e-5, 1e-4, 1e-3, 1e-2, 1e-1]\n",
    "\n",
    "#Find the best value for alpha and min_df, and the best classifier\n",
    "best_alpha = None\n",
    "best_min_df = None\n",
    "max_accuracy = 0\n",
    "\n",
    "for alpha in alphas:\n",
    "    for min_df in min_dfs:         \n",
    "        vectorizer = CountVectorizer(min_df = min_df)       \n",
    "        X, Y = make_xy(reviews, vectorizer)\n",
    "                    \n",
    "        # Initialize and fit the model\n",
    "        model = MultinomialNB(alpha=alpha)\n",
    "        scores = cross_val_score(model, X, Y,cv=3)\n",
    "        \n",
    "        if np.mean(scores) > max_accuracy:\n",
    "            max_accuracy = np.mean(scores)\n",
    "            best_alpha = alpha\n",
    "            best_min_df = min_df\n",
    "            \n",
    "print('Best alpha          = {:.4f}'.format(best_alpha))\n",
    "print('Best min_df         = {:.4f}'.format(best_min_df))\n",
    "print('Best log-likelihood = {:.4f}'.format(max_loglike))\n",
    "\n",
    "vectorizer_1 = CountVectorizer(min_df=best_min_df)\n",
    "X1, Y1 = make_xy(reviews,vectorizer_1)\n",
    "\n",
    "# Fitting the model with best hyperparameters\n",
    "fitted_model1 = MultinomialNB(alpha = best_alpha)\n",
    "fitted_model1.fit(X1[train.index], Y1[train.index])\n",
    "\n",
    "# Predicting\n",
    "prediction_train1 = fitted_model1.predict(X1[train.index])\n",
    "prediction_test1 = fitted_model1.predict(X1[test.index])\n",
    "\n",
    "# Accuracy Computation\n",
    "train_accuracy1 = sum(prediction_train1 == Y1[train.index])/len(prediction_train1)\n",
    "test_accuracy1 = sum(prediction_test1 == Y1[test.index])/len(prediction_test1)\n",
    "\n",
    "print('Train accuracy = {:.4f}'.format(train_accuracy1))\n",
    "print('Test  accuracy = {:.4f}'.format(test_accuracy1))"
   ]
  },
  {
   "cell_type": "markdown",
   "metadata": {},
   "source": [
    "Using classification accuracy for finding the best hyperparameters doesn't help much. The model still has the problem of overfitting with train accuracy arounf 92% and test accuracy around 77%. "
   ]
  },
  {
   "cell_type": "markdown",
   "metadata": {},
   "source": [
    "### 3.5 Interpretation\n",
    "\n",
    "What words best predict a fresh or rotten review?  Using your classifier and the `vectorizer.get_feature_names` method, determine which words best predict a positive or negative review. Print the 10 words that best predict a \"fresh\" review, and the 10 words that best predict a \"rotten\" review. For each word, what is the model's probability of freshness if the word appears one time?\n",
    "\n",
    "#### Hints\n",
    "* In thinking about how to measure the impact of a word on freshness rating, consider computing the classification probability for a feature vector which consists of all 0s, except for a single 1. What does this probability refer to?\n",
    "* `numpy.identity` generates an identity matrix, where all values are zero except the diagonal elements which have a value of one"
   ]
  },
  {
   "cell_type": "code",
   "execution_count": 31,
   "metadata": {},
   "outputs": [
    {
     "name": "stdout",
     "output_type": "stream",
     "text": [
      "Words that best predict FRESH review with probability for freshness::\n",
      "     1) Probability = 0.908, word = masterpiece\n",
      "     2) Probability = 0.886, word = delight\n",
      "     3) Probability = 0.867, word = witty\n",
      "     4) Probability = 0.866, word = remarkable\n",
      "     5) Probability = 0.866, word = touching\n",
      "     6) Probability = 0.860, word = intelligent\n",
      "     7) Probability = 0.859, word = rare\n",
      "     8) Probability = 0.859, word = exciting\n",
      "     9) Probability = 0.859, word = brilliantly\n",
      "    10) Probability = 0.856, word = superb\n",
      "\n",
      "Words that best predict ROTTEN review with probability for freshness:\n",
      "     1) probability = 0.122, word = unfortunately\n",
      "     2) probability = 0.158, word = pointless\n",
      "     3) probability = 0.174, word = lame\n",
      "     4) probability = 0.179, word = bland\n",
      "     5) probability = 0.200, word = uninspired\n",
      "     6) probability = 0.201, word = disappointment\n",
      "     7) probability = 0.208, word = unfunny\n",
      "     8) probability = 0.215, word = forced\n",
      "     9) probability = 0.217, word = tiresome\n",
      "    10) probability = 0.217, word = muddled\n"
     ]
    }
   ],
   "source": [
    "# Identifying the best fresh and rotten word features in my model\n",
    "\n",
    "# List of words\n",
    "words_list = vectorizer.get_feature_names()\n",
    "\n",
    "# Creating new test set for every feature using identity matrix\n",
    "newX = np.identity(len(words_list))\n",
    "\n",
    "# Predicted probability for every word feature\n",
    "words_probability = fitted_model.predict_proba(newX)\n",
    "\n",
    "fresh_probability =  words_probability[:,1]\n",
    "rotten_probability =  words_probability[:,0]\n",
    "\n",
    "sorted_index_fresh = np.argsort(fresh_probability)[::-1][:10]\n",
    "sorted_index_rotten = np.argsort(rotten_probability)[::-1][:10]\n",
    "\n",
    "best_fresh_words =  [words_list[i] for i in sorted_index_fresh]\n",
    "best_fresh_words_probability = [fresh_probability[i] for i in sorted_index_fresh ]\n",
    "\n",
    "best_rotten_words = [words_list[i] for i in sorted_index_rotten]\n",
    "best_rotten_words_probability = [fresh_probability[i] for i in sorted_index_rotten]\n",
    "\n",
    "print('Words that best predict FRESH review with probability for freshness::')\n",
    "\n",
    "for i in range(len(best_fresh_words)):\n",
    "    print('    {:2}) Probability = {:.3f}, word = {}'.format(i+1, best_fresh_words_probability[i], best_fresh_words[i]))\n",
    "print()\n",
    "\n",
    "print('Words that best predict ROTTEN review with probability for freshness:')\n",
    "for i in range(len(best_rotten_words)):\n",
    "    print('    {:2}) probability = {:.3f}, word = {}'.format(i+1, best_rotten_words_probability[i], best_rotten_words[i]))\n"
   ]
  },
  {
   "cell_type": "markdown",
   "metadata": {},
   "source": [
    "The probability for freshness for the words that represent a fresh review is obviously higher. Intutively as well, looking at the list of fresh words and rotten words - it makes sense. Words with positive connotation are associated with fresh reviews and negative connotation words are associated with rotten reviews. "
   ]
  },
  {
   "cell_type": "markdown",
   "metadata": {},
   "source": [
    "### 3.6 Error Analysis\n",
    "\n",
    "One of the best sources for inspiration when trying to improve a model is to look at examples where the model performs poorly.  Find 5 fresh and rotten reviews where your model performs particularly poorly. Print each review.\n",
    "\n",
    "What do you notice about these mis-predictions? Naive Bayes classifiers assume that every word affects the probability independently of other words. In what way is this a bad assumption? In your answer, report your classifier's Freshness probability for the review \"This movie is not remarkable, touching, or superb in any way\"."
   ]
  },
  {
   "cell_type": "code",
   "execution_count": 32,
   "metadata": {},
   "outputs": [
    {
     "name": "stdout",
     "output_type": "stream",
     "text": [
      "Fresh probability = 0.003\n",
      "Review: Some of the gags don't work, but fewer than in any previous Brooks film that I've seen, and when the jokes are meant to be bad, they are riotously poor. What more can one ask of Mel Brooks?\n",
      "\n",
      "Fresh probability = 0.005\n",
      "Review: Though it's a good half hour too long, this overblown 1993 spin-off of the 60s TV show otherwise adds up to a pretty good suspense thriller.\n",
      "\n",
      "Fresh probability = 0.006\n",
      "Review: Might it be a serious attempt to right some unretrievable wrong via gallows humor which avoids the polemics? This seems to be the course taken; the attempt at least can be respected in theory.\n",
      "\n",
      "Fresh probability = 0.007\n",
      "Review: There's too much talent and too strong a story to mess it up. There was potential for more here, but this incarnation is nothing to be ashamed of, and some of the actors answer the bell.\n",
      "\n",
      "Fresh probability = 0.008\n",
      "Review: A kind of insane logic seems to connect the sketches, if you look hard enough, but mostly the movie seems to exist in the present and be willing to try anything for a laugh.\n",
      "\n"
     ]
    }
   ],
   "source": [
    "#Fresh reviews with bad prediction\n",
    "fresh_reviews = reviews[reviews['fresh']=='fresh'].copy()\n",
    "fresh_reviews.reset_index(drop=True, inplace=True)\n",
    "vectorizer = CountVectorizer(min_df=0.001)\n",
    "X, Y = make_xy(reviews,vectorizer)\n",
    "X_fresh = X[Y==1]\n",
    "\n",
    "probability_fresh = fitted_model.predict_proba(X_fresh)[:,1]\n",
    "sort_idx = np.argsort(probability_fresh)\n",
    "\n",
    "for i in range(5):\n",
    "    print('Fresh probability = {:.3f}'.format(probability_fresh[sort_idx[i]]))\n",
    "    print('Review: {}'.format(fresh_reviews['quote'][sort_idx[i]]))\n",
    "    print()"
   ]
  },
  {
   "cell_type": "code",
   "execution_count": 33,
   "metadata": {},
   "outputs": [
    {
     "name": "stdout",
     "output_type": "stream",
     "text": [
      "Rotten probability = 0.0045\n",
      "Review: This pacifist spirit of brotherhood echoes the heroics in Princess Mononoke and other anime titles, but the artistic gap between the Miyazaki masterpiece and this project is huge.\n",
      "\n",
      "Rotten probability = 0.0063\n",
      "Review: The Waterboy is arguably Sandler's most enjoyable motion picture to date, but it's still far from a masterpiece.\n",
      "\n",
      "Rotten probability = 0.0064\n",
      "Review: It survives today only as an unusually pure example of a typical 50s art-film strategy: the attempt to make the most modern and most popular of art forms acceptable to the intelligentsia by forcing it into an arcane, antique mold.\n",
      "\n",
      "Rotten probability = 0.0066\n",
      "Review: It's a sad day when an actor who's totally, beautifully in touch with his dark side finds himself stuck in a movie that's scared of its own shadow.\n",
      "\n",
      "Rotten probability = 0.0084\n",
      "Review: Irons gives an excruciating performance - what Streep's genuinely warm, wonderful Clara sees in him you'd need ESP to fathom.\n",
      "\n"
     ]
    }
   ],
   "source": [
    "#Rotten reviews with bad prediction\n",
    "rotten_reviews = reviews[reviews['fresh']!='fresh'].copy()\n",
    "rotten_reviews.reset_index(drop=True, inplace=True)\n",
    "vectorizer = CountVectorizer(min_df=0.001)\n",
    "X, Y = make_xy(reviews,vectorizer)\n",
    "X_rotten = X[Y!=1]\n",
    "\n",
    "probability_rotten = fitted_model.predict_proba(X_rotten)[:,0]\n",
    "sort_idx = np.argsort(probability_rotten)\n",
    "\n",
    "for i in range(5):\n",
    "    print('Rotten probability = {:.4f}'.format(probability_rotten[sort_idx[i]]))\n",
    "    print('Review: {}'.format(rotten_reviews['quote'][sort_idx[i]]))\n",
    "    print()"
   ]
  },
  {
   "cell_type": "code",
   "execution_count": 34,
   "metadata": {},
   "outputs": [
    {
     "name": "stdout",
     "output_type": "stream",
     "text": [
      "Fresh probability = 0.983\n"
     ]
    }
   ],
   "source": [
    "req_quote = [\"This movie is not remarkable, touching, or superb in any way\"]\n",
    "req_X = vectorizer.transform(req_quote)\n",
    "req_X = req_X.toarray()\n",
    "\n",
    "probability = fitted_model.predict_proba(req_X[0,:].reshape(1,-1))\n",
    "print('Fresh probability = {:.3f}'.format(probability[0,1]))"
   ]
  },
  {
   "cell_type": "markdown",
   "metadata": {},
   "source": [
    "The given review is obviously not good but it has gotten a high score of freshness, that's because of the naive assumption of the naive bayes algorithm. The model considers all the features to be independent, because of that, the presence of words such as 'remarkable','suberb','touching' resulted in a high proabability score, even in the presence of the word 'not' which was negating all those things. Thus the independence assumption is a problem here.  "
   ]
  },
  {
   "cell_type": "code",
   "execution_count": null,
   "metadata": {},
   "outputs": [],
   "source": []
  }
 ],
 "metadata": {
  "anaconda-cloud": {},
  "kernelspec": {
   "display_name": "Python 3",
   "language": "python",
   "name": "python3"
  },
  "language_info": {
   "codemirror_mode": {
    "name": "ipython",
    "version": 3
   },
   "file_extension": ".py",
   "mimetype": "text/x-python",
   "name": "python",
   "nbconvert_exporter": "python",
   "pygments_lexer": "ipython3",
   "version": "3.7.3"
  }
 },
 "nbformat": 4,
 "nbformat_minor": 1
}
