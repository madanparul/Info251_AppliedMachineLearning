{
 "cells": [
  {
   "cell_type": "markdown",
   "metadata": {},
   "source": [
    "# Problem Set 2"
   ]
  },
  {
   "cell_type": "markdown",
   "metadata": {},
   "source": [
    "## Introduction to the assignment\n",
    "\n",
    "For this assignment, you will be using data from the [Progresa program](http://en.wikipedia.org/wiki/Oportunidades), a government social assistance program in Mexico. This program, as well as the details of its impact, are described in the paper \"[School subsidies for the poor: evaluating the Mexican Progresa poverty program](http://www.sciencedirect.com/science/article/pii/S0304387803001858)\", by Paul Shultz (available on bCourses). Please familiarize yourself with the PROGRESA program before beginning this problem set, so you have a rough sense of where the data come from and how they were generated. If you just proceed into the problem set without understanding Progresa or the data, it will be very difficult!\n",
    "\n",
    "The goal of this problem set is to implement some of the basic econometric techniques that you are learning in class to measure the impact of Progresa on secondary school enrollment rates. The timeline of the program was:\n",
    "\n",
    " * Baseline survey conducted in 1997\n",
    " * Intervention begins in 1998, \"Wave 1\" of data collected in 1998\n",
    " * \"Wave 2 of data\" collected in 1999\n",
    " * Evaluation ends in 2000, at which point the control villages were treated. \n",
    " \n",
    "When you are ready, download the progresa_sample.csv data from bCourses. The data are actual data collected to evaluate the impact of the Progresa program.  In this file, each row corresponds to an observation taken for a given child for a given year. There are two years of data (1997 and 1998), and just under 40,000 children who are surveyed in each year. For each child-year observation, the following variables are collected:\n",
    "\n",
    "| Variable name | Description|\n",
    "|------|------|\n",
    "|year\t  |year in which data is collected\n",
    "|sex\t  |male = 1|\n",
    "|indig\t  |indigenous = 1|\n",
    "|dist_sec |nearest distance to a secondary school|\n",
    "|sc\t      |enrolled in school in year of survey|\n",
    "|grc      |grade enrolled|\n",
    "|fam_n    |family size|\n",
    "|min_dist |\tmin distance to an urban center|\n",
    "|dist_cap |\tmin distance to the capital|\n",
    "|poor     |\tpoor = 1|\n",
    "|progresa |treatment =1|\n",
    "|hohedu\t  |years of schooling of head of household|\n",
    "|hohwag\t  |monthly wages of head of household|\n",
    "|welfare_index|\twelfare index used to classify poor|\n",
    "|hohsex\t|gender of head of household (male=1)|\n",
    "|hohage\t|age of head of household|\n",
    "|age\t|years old|\n",
    "|folnum\t|individual id|\n",
    "|village|\tvillage id|\n",
    "|sc97\t|schooling in 1997|"
   ]
  },
  {
   "cell_type": "code",
   "execution_count": 1,
   "metadata": {},
   "outputs": [],
   "source": [
    "#Setting up some imports\n",
    "\n",
    "import pandas as pd\n",
    "import numpy as np\n",
    "from scipy import stats\n",
    "import matplotlib.pyplot as plt\n",
    "import statsmodels.api as sm\n",
    "import statsmodels.formula.api as smf"
   ]
  },
  {
   "cell_type": "markdown",
   "metadata": {},
   "source": [
    "---\n",
    "\n",
    "## Part 1: Descriptive analysis\n",
    "\n",
    "### 1.1\tSummary Statistics\n",
    "\n",
    "Present summary statistics (mean and standard deviation) for all of the demographic variables in the dataset (i.e., everything except year, folnum, village). Present these in a single table alphabetized by variable name. Do NOT simply expect the grader to scroll through your output!"
   ]
  },
  {
   "cell_type": "code",
   "execution_count": 2,
   "metadata": {},
   "outputs": [],
   "source": [
    "data = pd.read_csv(\"progresa_sample.csv\")"
   ]
  },
  {
   "cell_type": "code",
   "execution_count": 3,
   "metadata": {},
   "outputs": [
    {
     "name": "stdout",
     "output_type": "stream",
     "text": [
      "Index(['poor', 'progresa'], dtype='object')\n",
      "\n",
      "pobre       65392\n",
      "no pobre    11858\n",
      "Name: poor, dtype: int64\n",
      "\n",
      "basal    47560\n",
      "0        29690\n",
      "Name: progresa, dtype: int64\n",
      "\n"
     ]
    },
    {
     "data": {
      "text/html": [
       "<div>\n",
       "<style scoped>\n",
       "    .dataframe tbody tr th:only-of-type {\n",
       "        vertical-align: middle;\n",
       "    }\n",
       "\n",
       "    .dataframe tbody tr th {\n",
       "        vertical-align: top;\n",
       "    }\n",
       "\n",
       "    .dataframe thead th {\n",
       "        text-align: right;\n",
       "    }\n",
       "</style>\n",
       "<table border=\"1\" class=\"dataframe\">\n",
       "  <thead>\n",
       "    <tr style=\"text-align: right;\">\n",
       "      <th></th>\n",
       "      <th>mean</th>\n",
       "      <th>std</th>\n",
       "    </tr>\n",
       "  </thead>\n",
       "  <tbody>\n",
       "    <tr>\n",
       "      <th>age</th>\n",
       "      <td>11.141369</td>\n",
       "      <td>2.995374</td>\n",
       "    </tr>\n",
       "    <tr>\n",
       "      <th>dist_cap</th>\n",
       "      <td>148.747707</td>\n",
       "      <td>77.134043</td>\n",
       "    </tr>\n",
       "    <tr>\n",
       "      <th>dist_sec</th>\n",
       "      <td>2.346990</td>\n",
       "      <td>2.111281</td>\n",
       "    </tr>\n",
       "    <tr>\n",
       "      <th>fam_n</th>\n",
       "      <td>7.224666</td>\n",
       "      <td>2.329421</td>\n",
       "    </tr>\n",
       "    <tr>\n",
       "      <th>grc</th>\n",
       "      <td>4.089494</td>\n",
       "      <td>2.447608</td>\n",
       "    </tr>\n",
       "    <tr>\n",
       "      <th>grc97</th>\n",
       "      <td>3.762656</td>\n",
       "      <td>2.449568</td>\n",
       "    </tr>\n",
       "    <tr>\n",
       "      <th>hohage</th>\n",
       "      <td>44.262224</td>\n",
       "      <td>11.457772</td>\n",
       "    </tr>\n",
       "    <tr>\n",
       "      <th>hohedu</th>\n",
       "      <td>2.853908</td>\n",
       "      <td>2.655106</td>\n",
       "    </tr>\n",
       "    <tr>\n",
       "      <th>hohsex</th>\n",
       "      <td>0.927744</td>\n",
       "      <td>0.258914</td>\n",
       "    </tr>\n",
       "    <tr>\n",
       "      <th>hohwag</th>\n",
       "      <td>592.782484</td>\n",
       "      <td>791.378223</td>\n",
       "    </tr>\n",
       "    <tr>\n",
       "      <th>indig</th>\n",
       "      <td>0.291305</td>\n",
       "      <td>0.454367</td>\n",
       "    </tr>\n",
       "    <tr>\n",
       "      <th>min_dist</th>\n",
       "      <td>103.595249</td>\n",
       "      <td>42.025512</td>\n",
       "    </tr>\n",
       "    <tr>\n",
       "      <th>poor</th>\n",
       "      <td>0.847606</td>\n",
       "      <td>0.359405</td>\n",
       "    </tr>\n",
       "    <tr>\n",
       "      <th>progresa</th>\n",
       "      <td>0.618545</td>\n",
       "      <td>0.485747</td>\n",
       "    </tr>\n",
       "    <tr>\n",
       "      <th>sc</th>\n",
       "      <td>0.821102</td>\n",
       "      <td>0.383270</td>\n",
       "    </tr>\n",
       "    <tr>\n",
       "      <th>sc97</th>\n",
       "      <td>0.839263</td>\n",
       "      <td>0.367291</td>\n",
       "    </tr>\n",
       "    <tr>\n",
       "      <th>sex</th>\n",
       "      <td>0.513572</td>\n",
       "      <td>0.499819</td>\n",
       "    </tr>\n",
       "    <tr>\n",
       "      <th>welfare_index</th>\n",
       "      <td>690.196267</td>\n",
       "      <td>139.489218</td>\n",
       "    </tr>\n",
       "  </tbody>\n",
       "</table>\n",
       "</div>"
      ],
      "text/plain": [
       "                     mean         std\n",
       "age             11.141369    2.995374\n",
       "dist_cap       148.747707   77.134043\n",
       "dist_sec         2.346990    2.111281\n",
       "fam_n            7.224666    2.329421\n",
       "grc              4.089494    2.447608\n",
       "grc97            3.762656    2.449568\n",
       "hohage          44.262224   11.457772\n",
       "hohedu           2.853908    2.655106\n",
       "hohsex           0.927744    0.258914\n",
       "hohwag         592.782484  791.378223\n",
       "indig            0.291305    0.454367\n",
       "min_dist       103.595249   42.025512\n",
       "poor             0.847606    0.359405\n",
       "progresa         0.618545    0.485747\n",
       "sc               0.821102    0.383270\n",
       "sc97             0.839263    0.367291\n",
       "sex              0.513572    0.499819\n",
       "welfare_index  690.196267  139.489218"
      ]
     },
     "execution_count": 3,
     "metadata": {},
     "output_type": "execute_result"
    }
   ],
   "source": [
    "#Find the columns having non-numerical data \n",
    "print(data.select_dtypes(include='object').columns)\n",
    "print()\n",
    "\n",
    "#unique values of poor column\n",
    "print(data.poor.value_counts())\n",
    "print()\n",
    "\n",
    "#unique values of progresa column\n",
    "print(data.progresa.value_counts())\n",
    "print()\n",
    "\n",
    "#Converting non-numerical column to zero and ones\n",
    "data.loc[data.poor==\"pobre\",\"poor\"] = 1\n",
    "data.loc[data.poor==\"no pobre\",\"poor\"] = 0\n",
    "\n",
    "data.loc[data.progresa==\"basal\",\"progresa\"] = 1\n",
    "data.loc[data.progresa==\"0\",\"progresa\"] = 0\n",
    "\n",
    "# Dropping the NA's as mentioned on Piazza\n",
    "data_1 = data.dropna()\n",
    "\n",
    "#Required summary statistic table\n",
    "summary_table = (data_1.describe().T)[['mean','std']].sort_index().drop(['year','folnum','village'])\n",
    "summary_table"
   ]
  },
  {
   "cell_type": "markdown",
   "metadata": {},
   "source": [
    "### 1.2 Differences at baseline?\n",
    "\n",
    "Are the baseline (1997) demographic characteristics **for the poor**  different in treatment and control villages? Hint: Use a T-Test to determine whether there is a statistically significant difference in the average values of each of the variables in the dataset. Focus only on the data from 1997 for individuals who are poor (i.e., poor=='pobre').\n",
    "\n",
    "Present your results in a single table with the following columns and 14 (or so) rows (alphabetized by variable name):\n",
    "\n",
    "| Variable name | Average value (Treatment villages) | Average value (Control villages) | Difference (Treat - Control) | p-value |\n",
    "|------|------|------|------|------|\n",
    "|Male|?|?|?|?|\n"
   ]
  },
  {
   "cell_type": "code",
   "execution_count": 4,
   "metadata": {},
   "outputs": [],
   "source": [
    "#Filtering the data\n",
    "control_97 = data[(data.year==97) & (data.poor==1) & (data.progresa==0)]\n",
    "treatment_97 = data[(data.year==97) & (data.poor==1) & (data.progresa==1)]\n",
    "\n",
    "#Function for computing required values\n",
    "\n",
    "def calculate_AvgValues(col):\n",
    "    \n",
    "    control_avg= np.mean(control_97[col])\n",
    "    treatment_avg= np.mean(treatment_97[col])\n",
    "    p_value = stats.ttest_ind(treatment_97[~treatment_97[col].isnull()][col],control_97[~control_97[col].isnull()][col],equal_var=False)[1]\n",
    "    \n",
    "    return(col,treatment_avg,control_avg,treatment_avg-control_avg,round(p_value,4))   "
   ]
  },
  {
   "cell_type": "code",
   "execution_count": 5,
   "metadata": {},
   "outputs": [
    {
     "data": {
      "text/html": [
       "<div>\n",
       "<style scoped>\n",
       "    .dataframe tbody tr th:only-of-type {\n",
       "        vertical-align: middle;\n",
       "    }\n",
       "\n",
       "    .dataframe tbody tr th {\n",
       "        vertical-align: top;\n",
       "    }\n",
       "\n",
       "    .dataframe thead th {\n",
       "        text-align: right;\n",
       "    }\n",
       "</style>\n",
       "<table border=\"1\" class=\"dataframe\">\n",
       "  <thead>\n",
       "    <tr style=\"text-align: right;\">\n",
       "      <th></th>\n",
       "      <th>Variable Name</th>\n",
       "      <th>Average value (Treatment villages)</th>\n",
       "      <th>Average value (Control villages)</th>\n",
       "      <th>Difference (Treat - Control)</th>\n",
       "      <th>p-value</th>\n",
       "    </tr>\n",
       "  </thead>\n",
       "  <tbody>\n",
       "    <tr>\n",
       "      <th>0</th>\n",
       "      <td>age</td>\n",
       "      <td>10.716991</td>\n",
       "      <td>10.742023</td>\n",
       "      <td>-0.025032</td>\n",
       "      <td>0.4784</td>\n",
       "    </tr>\n",
       "    <tr>\n",
       "      <th>1</th>\n",
       "      <td>dist_cap</td>\n",
       "      <td>150.829074</td>\n",
       "      <td>153.769730</td>\n",
       "      <td>-2.940656</td>\n",
       "      <td>0.0011</td>\n",
       "    </tr>\n",
       "    <tr>\n",
       "      <th>2</th>\n",
       "      <td>dist_sec</td>\n",
       "      <td>2.453122</td>\n",
       "      <td>2.507662</td>\n",
       "      <td>-0.054540</td>\n",
       "      <td>0.0427</td>\n",
       "    </tr>\n",
       "    <tr>\n",
       "      <th>3</th>\n",
       "      <td>fam_n</td>\n",
       "      <td>7.281327</td>\n",
       "      <td>7.302469</td>\n",
       "      <td>-0.021142</td>\n",
       "      <td>0.4290</td>\n",
       "    </tr>\n",
       "    <tr>\n",
       "      <th>4</th>\n",
       "      <td>grc97</td>\n",
       "      <td>3.531599</td>\n",
       "      <td>3.543050</td>\n",
       "      <td>-0.011450</td>\n",
       "      <td>0.6895</td>\n",
       "    </tr>\n",
       "    <tr>\n",
       "      <th>5</th>\n",
       "      <td>hohage</td>\n",
       "      <td>43.648828</td>\n",
       "      <td>44.276918</td>\n",
       "      <td>-0.628090</td>\n",
       "      <td>0.0000</td>\n",
       "    </tr>\n",
       "    <tr>\n",
       "      <th>6</th>\n",
       "      <td>hohedu</td>\n",
       "      <td>2.663139</td>\n",
       "      <td>2.590348</td>\n",
       "      <td>0.072791</td>\n",
       "      <td>0.0104</td>\n",
       "    </tr>\n",
       "    <tr>\n",
       "      <th>7</th>\n",
       "      <td>hohsex</td>\n",
       "      <td>0.924656</td>\n",
       "      <td>0.922947</td>\n",
       "      <td>0.001709</td>\n",
       "      <td>0.5721</td>\n",
       "    </tr>\n",
       "    <tr>\n",
       "      <th>8</th>\n",
       "      <td>hohwag</td>\n",
       "      <td>544.339544</td>\n",
       "      <td>573.163558</td>\n",
       "      <td>-28.824015</td>\n",
       "      <td>0.0003</td>\n",
       "    </tr>\n",
       "    <tr>\n",
       "      <th>9</th>\n",
       "      <td>indig</td>\n",
       "      <td>0.325986</td>\n",
       "      <td>0.332207</td>\n",
       "      <td>-0.006222</td>\n",
       "      <td>0.2459</td>\n",
       "    </tr>\n",
       "    <tr>\n",
       "      <th>10</th>\n",
       "      <td>min_dist</td>\n",
       "      <td>107.152915</td>\n",
       "      <td>103.237854</td>\n",
       "      <td>3.915060</td>\n",
       "      <td>0.0000</td>\n",
       "    </tr>\n",
       "    <tr>\n",
       "      <th>11</th>\n",
       "      <td>sc97</td>\n",
       "      <td>0.822697</td>\n",
       "      <td>0.815186</td>\n",
       "      <td>0.007511</td>\n",
       "      <td>0.0965</td>\n",
       "    </tr>\n",
       "    <tr>\n",
       "      <th>12</th>\n",
       "      <td>sex</td>\n",
       "      <td>0.519317</td>\n",
       "      <td>0.505052</td>\n",
       "      <td>0.014265</td>\n",
       "      <td>0.0122</td>\n",
       "    </tr>\n",
       "    <tr>\n",
       "      <th>13</th>\n",
       "      <td>welfare_index</td>\n",
       "      <td>655.428377</td>\n",
       "      <td>659.579100</td>\n",
       "      <td>-4.150723</td>\n",
       "      <td>0.0015</td>\n",
       "    </tr>\n",
       "  </tbody>\n",
       "</table>\n",
       "</div>"
      ],
      "text/plain": [
       "    Variable Name  Average value (Treatment villages)  \\\n",
       "0             age                           10.716991   \n",
       "1        dist_cap                          150.829074   \n",
       "2        dist_sec                            2.453122   \n",
       "3           fam_n                            7.281327   \n",
       "4           grc97                            3.531599   \n",
       "5          hohage                           43.648828   \n",
       "6          hohedu                            2.663139   \n",
       "7          hohsex                            0.924656   \n",
       "8          hohwag                          544.339544   \n",
       "9           indig                            0.325986   \n",
       "10       min_dist                          107.152915   \n",
       "11           sc97                            0.822697   \n",
       "12            sex                            0.519317   \n",
       "13  welfare_index                          655.428377   \n",
       "\n",
       "    Average value (Control villages)  Difference (Treat - Control)  p-value  \n",
       "0                          10.742023                     -0.025032   0.4784  \n",
       "1                         153.769730                     -2.940656   0.0011  \n",
       "2                           2.507662                     -0.054540   0.0427  \n",
       "3                           7.302469                     -0.021142   0.4290  \n",
       "4                           3.543050                     -0.011450   0.6895  \n",
       "5                          44.276918                     -0.628090   0.0000  \n",
       "6                           2.590348                      0.072791   0.0104  \n",
       "7                           0.922947                      0.001709   0.5721  \n",
       "8                         573.163558                    -28.824015   0.0003  \n",
       "9                           0.332207                     -0.006222   0.2459  \n",
       "10                        103.237854                      3.915060   0.0000  \n",
       "11                          0.815186                      0.007511   0.0965  \n",
       "12                          0.505052                      0.014265   0.0122  \n",
       "13                        659.579100                     -4.150723   0.0015  "
      ]
     },
     "execution_count": 5,
     "metadata": {},
     "output_type": "execute_result"
    }
   ],
   "source": [
    "result =[]\n",
    "\n",
    "for col in data.columns:\n",
    "    if col not in ['year','poor','progresa','village','folnum','sc','grc']:\n",
    "        req= calculate_AvgValues(col)\n",
    "        result.append(req)\n",
    "\n",
    "result=pd.DataFrame(result,columns=[\"Variable Name\",\"Average value (Treatment villages)\",\"Average value (Control villages)\",\"Difference (Treat - Control)\",\"p-value\"])\n",
    "result.sort_values(by=\"Variable Name\").reset_index(drop=True)"
   ]
  },
  {
   "cell_type": "markdown",
   "metadata": {},
   "source": [
    "### 1.3 Interpretation\n",
    "\n",
    "* A: Are there statistically significant differences between treatment and control villages as baseline? \n",
    "* B: Why does it matter if there are differences at baseline?\n",
    "* C: What does this imply about how to measure the impact of the treatment?"
   ]
  },
  {
   "cell_type": "markdown",
   "metadata": {},
   "source": [
    "A: There seems to be statistically significant differences between treatment and control villages as baseline. Looking at the p-values for different demographic variables, all the variables which have p-value less than 0.05 (considering significance level of 5%), all thosse variables are statistically different between the two groups.\n",
    "\n",
    "B: It would matter if there are differences at baseline because it violates the assumption of the two groups being same apart from the provided treatment. In that case, we can't really attribute the change in the output to the treatment and no causal interpretation can be established.\n",
    "\n",
    "C: This would mean that we need to control for these variables to measure the actual impact of the treatment. One way would be to do the regression while controlling for these variables. "
   ]
  },
  {
   "cell_type": "markdown",
   "metadata": {},
   "source": [
    "### 1.4 Graphical exploration, part 1\n",
    "\n",
    "For each level of household head education, compute the average enrollment rate in 1997. Create a scatterplot that shows this relationship. What do you notice?"
   ]
  },
  {
   "cell_type": "code",
   "execution_count": 6,
   "metadata": {},
   "outputs": [
    {
     "data": {
      "image/png": "[encoded data removed]",
      "text/plain": [
       "<Figure size 576x432 with 1 Axes>"
      ]
     },
     "metadata": {
      "needs_background": "light"
     },
     "output_type": "display_data"
    }
   ],
   "source": [
    "#Filtering data for year 97\n",
    "data_97 = data[data.year==97]\n",
    "\n",
    "#Levels of household head education\n",
    "hohedu_levels = data_97.hohedu.unique()\n",
    "\n",
    "#Calculating mean of enrollment rate for each level\n",
    "result1=[]\n",
    "for level in hohedu_levels:\n",
    "    avg_enrollment = np.mean(data_97[data_97.hohedu==level]['sc'])\n",
    "    req=level,avg_enrollment\n",
    "    result1.append(req)\n",
    "\n",
    "result1=pd.DataFrame(result1,columns=[\"Household_head_education_level\",\"Avg_Enrollment_Rate\"])\n",
    "    \n",
    "#Plotting the results\n",
    "fig = plt.figure(figsize=(8,6))\n",
    "ax = fig.add_subplot()\n",
    "ax.scatter(result1.Household_head_education_level,result1.Avg_Enrollment_Rate)\n",
    "ax.set_xlabel('Years of schooling of Head of Household')\n",
    "ax.set_ylabel('Average Enrollment Rate')\n",
    "ax.set_title(\"Head of Household education vs Avg Enrollment Rate (1997)\");"
   ]
  },
  {
   "cell_type": "markdown",
   "metadata": {},
   "source": [
    "There seems to be a **positive correlation** between head of the household's education years and the avg enrollment rate. As the number of years of schooling for the head of the household increases, there is an overall increase in the enrollment rate apart from on **outlier** at the end. At 20 years of head of household schooling, there is a dip, where average enrollment rate seems to be the lowest. "
   ]
  },
  {
   "cell_type": "markdown",
   "metadata": {},
   "source": [
    "### 1.5 Graphical exploration, part 2\n",
    "\n",
    "Visualize the distribution of village enrollment rates **among poor households in treated villages**, before and after treatment. Specifically, for each village, calculate the average rate of enrollment of poor households in treated villages in 1997, then compute the average rate of enrollment of poor households in treated villages in 1998. Create two separate histograms showing the distribution of these average enrollments rates, one histogram for 1997 and one histogram for 1998. On each histogram, draw a vertical line that intersects the x-axis at the average value (across all households). Does there appear to be a difference? Is this difference statistically significant?"
   ]
  },
  {
   "cell_type": "code",
   "execution_count": 7,
   "metadata": {},
   "outputs": [
    {
     "data": {
      "image/png": "[encoded data removed]",
      "text/plain": [
       "<Figure size 720x288 with 2 Axes>"
      ]
     },
     "metadata": {
      "needs_background": "light"
     },
     "output_type": "display_data"
    }
   ],
   "source": [
    "#Filtering the Data\n",
    "treatment_97 = data[(data.year==97) & (data.poor==1) & (data.progresa==1)]\n",
    "treatment_98 = data[(data.year==98) & (data.poor==1) & (data.progresa==1)]\n",
    "\n",
    "#Unique villages\n",
    "village_id_list = treatment_97['village'].unique()\n",
    "\n",
    "#Calculate Average enrollment Rate\n",
    "village_avg_enrolled_97=[]\n",
    "village_avg_enrolled_98=[]\n",
    "\n",
    "for village_id in village_id_list:\n",
    "    avg_enrollment_97 = np.mean(treatment_97[treatment_97.village==village_id]['sc'])\n",
    "    avg_enrollment_98 = np.mean(treatment_98[treatment_98.village==village_id]['sc'])\n",
    "    village_avg_enrolled_97.append([village_id,avg_enrollment_97])\n",
    "    village_avg_enrolled_98.append([village_id,avg_enrollment_98])\n",
    "\n",
    "village_avg_enrolled_97=pd.DataFrame(village_avg_enrolled_97,columns=[\"Village\",\"Avg_Enrollment_Rate\"])\n",
    "village_avg_enrolled_98=pd.DataFrame(village_avg_enrolled_98,columns=[\"Village\",\"Avg_Enrollment_Rate\"])\n",
    "        \n",
    "#Plotting the results\n",
    "fig = plt.figure(figsize=(10,4))\n",
    "ax1 = plt.subplot(1,2,1) \n",
    "ax2 = plt.subplot(1,2,2)\n",
    "\n",
    "# make sure bins are consistent between histograms\n",
    "bins = np.linspace(0,1,20)\n",
    "\n",
    "ax1.hist(village_avg_enrolled_97.Avg_Enrollment_Rate, bins=bins, color='blue',alpha=0.6)\n",
    "ax1.axvline(np.mean(treatment_97['sc']), c='red', ls='--')\n",
    "ax1.set_xlabel('Average Enrollment Rate')\n",
    "ax1.set_ylabel('Frequency (no. of villages)')\n",
    "ax1.set_title(\"Avg Enrollment Rate in poor Villages (1997)\");\n",
    "\n",
    "ax2.hist(village_avg_enrolled_98.Avg_Enrollment_Rate, bins=bins, color='green',alpha=0.6)\n",
    "ax2.axvline(np.mean(treatment_98['sc']), c='red', ls='--')\n",
    "ax2.set_xlabel('Average Enrollment Rate')\n",
    "ax2.set_ylabel('Frequency (no. of villages)')\n",
    "ax2.set_title(\"Avg Enrollment Rate in poor villages (1998)\");"
   ]
  },
  {
   "cell_type": "code",
   "execution_count": 8,
   "metadata": {},
   "outputs": [
    {
     "name": "stdout",
     "output_type": "stream",
     "text": [
      "Average Enrollement Rate in 1997\n",
      "0.8226968874033842\n",
      "\n",
      "Average Enrollement Rate in 1998\n",
      "0.8464791213954308\n"
     ]
    }
   ],
   "source": [
    "print(\"Average Enrollement Rate in 1997\")\n",
    "print(np.mean(treatment_97['sc']))\n",
    "print()\n",
    "print(\"Average Enrollement Rate in 1998\")\n",
    "print(np.mean(treatment_98['sc']))"
   ]
  },
  {
   "cell_type": "code",
   "execution_count": 9,
   "metadata": {},
   "outputs": [
    {
     "data": {
      "text/plain": [
       "Ttest_indResult(statistic=-2.0157134865155815, pvalue=0.044249343422594324)"
      ]
     },
     "execution_count": 9,
     "metadata": {},
     "output_type": "execute_result"
    }
   ],
   "source": [
    "stats.ttest_ind(village_avg_enrolled_97.Avg_Enrollment_Rate,village_avg_enrolled_98.Avg_Enrollment_Rate,equal_var=False,nan_policy=\"omit\")"
   ]
  },
  {
   "cell_type": "markdown",
   "metadata": {},
   "source": [
    "There appears to be small difference between the average enrollment rate in poor villages in 1997 (0.82) and 1998 (0.85). Based on the p-value from the t-test above, this difference appears to be statistically significant at 5% significance level."
   ]
  },
  {
   "cell_type": "markdown",
   "metadata": {},
   "source": [
    "## Part 2: Measuring Impact\n",
    "\n",
    "Our goal is to estimate the causal impact of the PROGRESA program on the social and economic outcomes of individuals in Mexico. We will focus on the impact of the program on the poor (those with poor=='pobre'), since only the poor were eligible to receive the PROGRESA assistance.\n",
    "\n",
    "### 2.1 Simple differences: T-test\n",
    "\n",
    "Begin by estimating the impact of Progresa using \"simple differences.\" Restricting yourself to data from 1998 (after treatment), calculate the average enrollment rate among **poor** households in the Treatment villages and the average enrollment rate among **poor** households in the control villages. Use a t-test to determine if this difference is statistically significant. What do you conclude?"
   ]
  },
  {
   "cell_type": "code",
   "execution_count": 10,
   "metadata": {},
   "outputs": [
    {
     "name": "stdout",
     "output_type": "stream",
     "text": [
      "t-test\n",
      "2.5286761113653253 0.011846703733412123\n",
      "\n",
      "Average Enrollment in treatment\n",
      "0.8464791213954308\n",
      "\n",
      "Average Enrollment in control\n",
      "0.807636956730308\n",
      "\n",
      "Difference in avg values\n",
      "0.0388421646651228\n"
     ]
    }
   ],
   "source": [
    "#Filter the data\n",
    "control_98 = data[(data.year==98) & (data.poor==1) & (data.progresa==0)]\n",
    "treatment_98 = data[(data.year==98) & (data.poor==1) & (data.progresa==1)]\n",
    "\n",
    "#Unique villages\n",
    "village_id_list_c = control_98['village'].unique()\n",
    "village_id_list_t = treatment_98['village'].unique()\n",
    "\n",
    "#Calculate Average enrollment Rate in villages\n",
    "control_avg_enrolled_=[]\n",
    "treatment_avg_enrolled=[]\n",
    "    \n",
    "for village_id in village_id_list_c:\n",
    "    avg_enrollment = np.mean(control_98[control_98.village==village_id]['sc'])\n",
    "    control_avg_enrolled_.append([village_id,avg_enrollment])\n",
    "    \n",
    "for village_id in village_id_list_t:\n",
    "    avg_enrollment = np.mean(treatment_98[treatment_98.village==village_id]['sc'])\n",
    "    treatment_avg_enrolled.append([village_id,avg_enrollment])\n",
    "\n",
    "control_avg_enrolled_=pd.DataFrame(control_avg_enrolled_,columns=[\"Village\",\"Avg_Enrollment_Rate\"])\n",
    "treatment_avg_enrolled=pd.DataFrame(treatment_avg_enrolled,columns=[\"Village\",\"Avg_Enrollment_Rate\"])\n",
    "        \n",
    "#t-test\n",
    "stat,pvalue=stats.ttest_ind(treatment_avg_enrolled.Avg_Enrollment_Rate,control_avg_enrolled_.Avg_Enrollment_Rate,equal_var=False)\n",
    "print(\"t-test\")\n",
    "print(stat,pvalue)\n",
    "print()\n",
    "\n",
    "print(\"Average Enrollment in treatment\")\n",
    "print(np.mean(treatment_98.sc))\n",
    "print()\n",
    "print(\"Average Enrollment in control\")\n",
    "print(np.mean(control_98.sc))\n",
    "print()\n",
    "print(\"Difference in avg values\")\n",
    "print(np.mean(treatment_98.sc)-np.mean(control_98.sc))"
   ]
  },
  {
   "cell_type": "markdown",
   "metadata": {},
   "source": [
    "Looking at the p-value, the difference between treatment and control group in 1998 seems statistically significant at the significance level of 5%. This would mean that poor people who were given treatment via the Progresa program, had higher average enrollment rate than the control group. "
   ]
  },
  {
   "cell_type": "markdown",
   "metadata": {},
   "source": [
    "### 2.2 Simple differences: Regression\n",
    "\n",
    "Estimate the effects of Progresa on enrollment using a regression model, by regressing the 1998 enrollment rates **of the poor** on treatment assignment. For now, do not include any other variables in your regression. Discuss the following:\n",
    "\n",
    "* Based on this model, how much did Progresa increase or decrease the likelihood of a child enrolling? Make sure you express you answer in a sentence that your grandmother could understand, using appropriate units.\n",
    "* How does your regression estimate compare to your t-test estimate from part 2.1?\n",
    "* Based on this regression model, can we reject the null hypothesis that the treatment effects are zero? \n",
    "* What is the counterfactual assumption underlying this regression?"
   ]
  },
  {
   "cell_type": "code",
   "execution_count": 11,
   "metadata": {},
   "outputs": [
    {
     "name": "stdout",
     "output_type": "stream",
     "text": [
      "                            OLS Regression Results                            \n",
      "==============================================================================\n",
      "Dep. Variable:                     sc   R-squared:                       0.003\n",
      "Model:                            OLS   Adj. R-squared:                  0.003\n",
      "Method:                 Least Squares   F-statistic:                     69.87\n",
      "Date:                Mon, 10 Feb 2020   Prob (F-statistic):           6.64e-17\n",
      "Time:                        22:46:25   Log-Likelihood:                -11926.\n",
      "No. Observations:               27450   AIC:                         2.386e+04\n",
      "Df Residuals:                   27448   BIC:                         2.387e+04\n",
      "Df Model:                           1                                         \n",
      "Covariance Type:            nonrobust                                         \n",
      "==============================================================================\n",
      "                 coef    std err          t      P>|t|      [0.025      0.975]\n",
      "------------------------------------------------------------------------------\n",
      "Intercept      0.8076      0.004    220.676      0.000       0.800       0.815\n",
      "progresa       0.0388      0.005      8.359      0.000       0.030       0.048\n",
      "==============================================================================\n",
      "Omnibus:                     7638.939   Durbin-Watson:                   1.734\n",
      "Prob(Omnibus):                  0.000   Jarque-Bera (JB):            15767.534\n",
      "Skew:                          -1.767   Prob(JB):                         0.00\n",
      "Kurtosis:                       4.140   Cond. No.                         3.01\n",
      "==============================================================================\n",
      "\n",
      "Warnings:\n",
      "[1] Standard Errors assume that the covariance matrix of the errors is correctly specified.\n"
     ]
    }
   ],
   "source": [
    "#Filtering the required data\n",
    "data98 = data[(data.year==98) & (data.poor==1)]\n",
    "\n",
    "# Regressing against the treatment/control assignment (i.e. progresa column)\n",
    "model1 = smf.ols(\"sc ~ progresa\", data = data98).fit()\n",
    "print(model1.summary())"
   ]
  },
  {
   "cell_type": "markdown",
   "metadata": {},
   "source": [
    "1. The coefficient of progresa is 0.039 which represents that the average increase in the likelihood of enrollment of a child is 3.9%. In other words, in 1998, progresa increased the chances of child enrollement in school by 4.8% (0.039/0.81 = 0.0481)\n",
    "\n",
    "2. t-test estimate from 2.1 and regression estimagte are the same. **t-estimate from 2.1: 0.039** and  **Regression estimate: 0.039**\n",
    " \n",
    "3. Since the p-value is 0.000 (less than 0.05). At 5% significance level, we can reject the null hypothesis that the treatment effects are zero. \n",
    "\n",
    "4. Counterfactual Assumption: In the absence of the treatment, in the year 1998, there would be no difference in the enrollment rate in the two groups i.e., the outcome on the treatment and control group of running the progresa program would have been the same. "
   ]
  },
  {
   "cell_type": "markdown",
   "metadata": {},
   "source": [
    "### 2.3 Multiple Regression\n",
    "\n",
    "Re-run the above regression estimated but this time include a set of control variables. Include, for instance, age, distance to a secondary school, gender, education of household head, welfare index, indigenous, etc.\n",
    "\n",
    "* How do the controls affect the point estimate of treatment effect?\n",
    "* How do the controls affect the standard error on the treatment effect? \n",
    "* How do you interpret the differences (or similarities) between your estimates of 2.2 and 2.3?"
   ]
  },
  {
   "cell_type": "code",
   "execution_count": 12,
   "metadata": {},
   "outputs": [
    {
     "name": "stdout",
     "output_type": "stream",
     "text": [
      "                            OLS Regression Results                            \n",
      "==============================================================================\n",
      "Dep. Variable:                     sc   R-squared:                       0.272\n",
      "Model:                            OLS   Adj. R-squared:                  0.272\n",
      "Method:                 Least Squares   F-statistic:                     1020.\n",
      "Date:                Mon, 10 Feb 2020   Prob (F-statistic):               0.00\n",
      "Time:                        22:46:25   Log-Likelihood:                -7543.3\n",
      "No. Observations:               27267   AIC:                         1.511e+04\n",
      "Df Residuals:                   27256   BIC:                         1.520e+04\n",
      "Df Model:                          10                                         \n",
      "Covariance Type:            nonrobust                                         \n",
      "=================================================================================\n",
      "                    coef    std err          t      P>|t|      [0.025      0.975]\n",
      "---------------------------------------------------------------------------------\n",
      "Intercept         1.4488      0.015     97.582      0.000       1.420       1.478\n",
      "progresa          0.0337      0.004      8.411      0.000       0.026       0.042\n",
      "sex               0.0304      0.004      7.857      0.000       0.023       0.038\n",
      "indig             0.0188      0.005      3.979      0.000       0.010       0.028\n",
      "dist_sec         -0.0106      0.001    -12.019      0.000      -0.012      -0.009\n",
      "min_dist          0.0004   6.34e-05      6.303      0.000       0.000       0.001\n",
      "dist_cap          0.0002   3.69e-05      5.503      0.000       0.000       0.000\n",
      "hohedu            0.0079      0.001     10.020      0.000       0.006       0.009\n",
      "hohwag        -6.141e-07   2.79e-06     -0.220      0.826   -6.09e-06    4.86e-06\n",
      "welfare_index  1.978e-05   1.72e-05      1.149      0.250    -1.4e-05    5.35e-05\n",
      "age              -0.0657      0.001    -95.643      0.000      -0.067      -0.064\n",
      "==============================================================================\n",
      "Omnibus:                     2940.604   Durbin-Watson:                   1.728\n",
      "Prob(Omnibus):                  0.000   Jarque-Bera (JB):             3992.519\n",
      "Skew:                          -0.930   Prob(JB):                         0.00\n",
      "Kurtosis:                       3.236   Cond. No.                     7.94e+03\n",
      "==============================================================================\n",
      "\n",
      "Warnings:\n",
      "[1] Standard Errors assume that the covariance matrix of the errors is correctly specified.\n",
      "[2] The condition number is large, 7.94e+03. This might indicate that there are\n",
      "strong multicollinearity or other numerical problems.\n"
     ]
    }
   ],
   "source": [
    "#regression with control variables\n",
    "model2 = smf.ols(formula = \"sc ~ progresa + sex +indig +dist_sec + min_dist + dist_cap + hohedu + hohwag + welfare_index + age\", data = data98).fit()\n",
    "print(model2.summary())"
   ]
  },
  {
   "cell_type": "markdown",
   "metadata": {},
   "source": [
    "* There is a slight decrease in the point estimate of the progresa coefficient (from 0.039 to 0.033) \n",
    "* There is a slight decrease in the standard error of the treatment coefficient as well. (from  0.005 to 0.004)\n",
    "* There is a very small difference in the estimates in 2.2 and 2.3, that represents that while controlling for other variables, the outcome of the treatment is similar which makes sense because treatment and control group without the treatment effect should be similar to each other. "
   ]
  },
  {
   "cell_type": "markdown",
   "metadata": {},
   "source": [
    "### 2.4 Difference-in-Difference, version 1 (tabular)\n",
    "\n",
    "Thus far, we have computed the effects of Progresa by estimating the difference in 1998 enrollment rates across villages. An alternative approach would be to compute the treatment effect using a difference-in-differences framework.\n",
    "\n",
    "Begin by estimating the average treatment effects of the program for poor households using data from 1997 and 1998. Specifically, calculate the difference (between 1997 and 1998) in enrollment rates among poor households in treated villages; then compute the difference (between 1997 and 1998) in enrollment rates among poor households in control villages. The difference between these two differences is your estimate.\n",
    "\n",
    "* What is your estimate of the impact, and how does it compare to your earlier (simple difference) results?\n",
    "* What is the counterfactual assumption underlying this estimate? \n"
   ]
  },
  {
   "cell_type": "code",
   "execution_count": 13,
   "metadata": {},
   "outputs": [
    {
     "data": {
      "text/plain": [
       "0.031331280319323085"
      ]
     },
     "execution_count": 13,
     "metadata": {},
     "output_type": "execute_result"
    }
   ],
   "source": [
    "#Difference in Difference\n",
    "\n",
    "#Filter the data\n",
    "control_97 = data[(data.year==97) & (data.poor==1) & (data.progresa==0)]\n",
    "treatment_97 = data[(data.year==97) & (data.poor==1) & (data.progresa==1)]\n",
    "control_98 = data[(data.year==98) & (data.poor==1) & (data.progresa==0)]\n",
    "treatment_98 = data[(data.year==98) & (data.poor==1) & (data.progresa==1)]\n",
    "\n",
    "a=np.mean(control_97['sc'])\n",
    "b=np.mean(control_98['sc'])\n",
    "c=np.mean(treatment_97['sc'])\n",
    "d=np.mean(treatment_98['sc'])\n",
    "\n",
    "did_estimate=(d-c)-(b-a)\n",
    "did_estimate"
   ]
  },
  {
   "cell_type": "markdown",
   "metadata": {},
   "source": [
    "* The estimate of the impact is 0.031, which is slightly smaller than the simple difference calculated earlier (0.039). \n",
    "* Counterfactual Assumption: In the absence of the treatment, the trend change over time (from 1997 to 1998) would have been same in the treatment and the control group, i.e., the effect on enrollment would have been same on the treatment and control group from pre to post period."
   ]
  },
  {
   "cell_type": "markdown",
   "metadata": {},
   "source": [
    "### 2.5 Difference-in-Difference, version 2 (regression)\n",
    "\n",
    "Now use a regression specification to estimate the average treatment effects of the program in a difference-in-differences framework. Include at least 5 control variables.\n",
    "\n",
    "* What is your estimate of the impact of Progresa? Be very specific in interpreting your coefficients and standard errors, and make sure to specify exactly what units you are measuring and estimating.\n",
    "* How do these estimates of the treatment effect compare to the estimates based on the simple difference?\n",
    "* How do these estimates compare to the difference-in-difference estimates from 2.4 above? What accounts for these differences?\n",
    "* What is the counterfactual assumption underlying this regression? "
   ]
  },
  {
   "cell_type": "code",
   "execution_count": 14,
   "metadata": {},
   "outputs": [
    {
     "name": "stdout",
     "output_type": "stream",
     "text": [
      "                            OLS Regression Results                            \n",
      "==============================================================================\n",
      "Dep. Variable:                     sc   R-squared:                       0.279\n",
      "Model:                            OLS   Adj. R-squared:                  0.278\n",
      "Method:                 Least Squares   F-statistic:                     2488.\n",
      "Date:                Mon, 10 Feb 2020   Prob (F-statistic):               0.00\n",
      "Time:                        22:46:26   Log-Likelihood:                -16656.\n",
      "No. Observations:               58013   AIC:                         3.333e+04\n",
      "Df Residuals:                   58003   BIC:                         3.342e+04\n",
      "Df Model:                           9                                         \n",
      "Covariance Type:            nonrobust                                         \n",
      "==========================================================================================\n",
      "                             coef    std err          t      P>|t|      [0.025      0.975]\n",
      "------------------------------------------------------------------------------------------\n",
      "Intercept                  1.4711      0.010    149.640      0.000       1.452       1.490\n",
      "C(year)[T.98]              0.0278      0.004      6.370      0.000       0.019       0.036\n",
      "progresa                   0.0044      0.004      1.169      0.242      -0.003       0.012\n",
      "progresa:C(year)[T.98]     0.0309      0.006      5.582      0.000       0.020       0.042\n",
      "sex                        0.0338      0.003     12.625      0.000       0.029       0.039\n",
      "indig                      0.0499      0.003     17.363      0.000       0.044       0.055\n",
      "dist_sec                  -0.0108      0.001    -17.378      0.000      -0.012      -0.010\n",
      "hohedu                     0.0075      0.001     13.841      0.000       0.006       0.009\n",
      "welfare_index           3.555e-05   1.19e-05      2.986      0.003    1.22e-05    5.89e-05\n",
      "age                       -0.0655      0.000   -143.552      0.000      -0.066      -0.065\n",
      "==============================================================================\n",
      "Omnibus:                     5532.977   Durbin-Watson:                   1.483\n",
      "Prob(Omnibus):                  0.000   Jarque-Bera (JB):             7289.118\n",
      "Skew:                          -0.866   Prob(JB):                         0.00\n",
      "Kurtosis:                       3.116   Cond. No.                     5.02e+03\n",
      "==============================================================================\n",
      "\n",
      "Warnings:\n",
      "[1] Standard Errors assume that the covariance matrix of the errors is correctly specified.\n",
      "[2] The condition number is large, 5.02e+03. This might indicate that there are\n",
      "strong multicollinearity or other numerical problems.\n"
     ]
    }
   ],
   "source": [
    "data_poor= data[data.poor==1]\n",
    "\n",
    "#Regression for Difference in Difference (include binary variable for 1997 and 1998)\n",
    "\n",
    "model3 = smf.ols(\"sc ~ progresa * C(year) + sex + indig + dist_sec + hohedu + welfare_index + age\",\n",
    "                 data = data_poor).fit()\n",
    "print(model3.summary())"
   ]
  },
  {
   "cell_type": "markdown",
   "metadata": {},
   "source": [
    "* The coefficient of the treatment variable (progresa) is 0.004, which represents the estimated mean difference in the enrollment rate between the treatment and control groups prior to the intervention. So, this is the baseline difference that exists between the two groups before the intervention.\n",
    "\n",
    "* Coefficient of year is 0.0278 which represents the expected mean change in the outcome of enrollment rate from 1997 to 1998 among the control group. This is the pure effect due to the change in period from 1997 to 1998 in the absence of the treatment.\n",
    "\n",
    "* Coefficient of progresa:C(year) is 0.0309 which represents the difference in differences estimator. It represents the  the expected mean change in outcome (enrollment rate) from 1997 to 1998 between the treatment and the control group. This is the actual effect of the intervention on the treatment group in 1998.\n",
    "\n",
    "* The estimated mean difference in the outcome (enrollment rate) between the treatment and control groups after the intervention (in 1998) would be given the adding the coefficient of treatment variable (0.004) + coefficient of progresa:C(year)(0.0309).\n",
    "\n",
    "* The actual effect of the treatment after intervention is 0.0309 which is different from what we got with simple difference (0.039)\n",
    "\n",
    "* The Difference-in-difference estimator that we got here is 0.0309 with standard error of 0.006 is comparable to the estimate we got in 2.4 (0.031). The difference might be from the presence of the control variables which are not completely similar in the treatment and control group. \n",
    "\n",
    "* Counterfactual Assumption: The most important assumption is the parallel trend assumption, that is, the difference in the outcome of enrollment rate in the treatment and the control group would have been same with the passage of time (from 1997 to 1998)"
   ]
  },
  {
   "cell_type": "markdown",
   "metadata": {},
   "source": [
    "### 2.6 Spillover effects\n",
    "\n",
    "Thus far, we have focused on the impact of PROGRESA on poor households. Repeat your analysis in 2.5, instead focusing on the impact of PROGRESA on non-poor households. \n",
    "* Do you observe any impacts of PROGRESA on the non-poor?\n",
    "* Regardless of whether you find evidence of spillovers, describe one or two reasons why PROGRESA *might* have impacted non-poor households. Give concrete examples based on the context in which PROGRESA was implemented."
   ]
  },
  {
   "cell_type": "code",
   "execution_count": 15,
   "metadata": {},
   "outputs": [
    {
     "name": "stdout",
     "output_type": "stream",
     "text": [
      "                            OLS Regression Results                            \n",
      "==============================================================================\n",
      "Dep. Variable:                     sc   R-squared:                       0.283\n",
      "Model:                            OLS   Adj. R-squared:                  0.283\n",
      "Method:                 Least Squares   F-statistic:                     453.6\n",
      "Date:                Mon, 10 Feb 2020   Prob (F-statistic):               0.00\n",
      "Time:                        22:46:26   Log-Likelihood:                -3675.3\n",
      "No. Observations:               10334   AIC:                             7371.\n",
      "Df Residuals:                   10324   BIC:                             7443.\n",
      "Df Model:                           9                                         \n",
      "Covariance Type:            nonrobust                                         \n",
      "==========================================================================================\n",
      "                             coef    std err          t      P>|t|      [0.025      0.975]\n",
      "------------------------------------------------------------------------------------------\n",
      "Intercept                  1.4462      0.030     48.805      0.000       1.388       1.504\n",
      "C(year)[T.98]              0.0387      0.011      3.565      0.000       0.017       0.060\n",
      "progresa                   0.0275      0.009      2.945      0.003       0.009       0.046\n",
      "progresa:C(year)[T.98]    -0.0019      0.014     -0.134      0.893      -0.029       0.026\n",
      "sex                        0.0295      0.007      4.331      0.000       0.016       0.043\n",
      "indig                      0.0391      0.010      3.849      0.000       0.019       0.059\n",
      "dist_sec                  -0.0159      0.002     -8.958      0.000      -0.019      -0.012\n",
      "hohedu                     0.0093      0.001      8.559      0.000       0.007       0.011\n",
      "welfare_index              0.0001   2.84e-05      3.790      0.000     5.2e-05       0.000\n",
      "age                       -0.0681      0.001    -59.864      0.000      -0.070      -0.066\n",
      "==============================================================================\n",
      "Omnibus:                      844.510   Durbin-Watson:                   1.494\n",
      "Prob(Omnibus):                  0.000   Jarque-Bera (JB):              824.786\n",
      "Skew:                          -0.635   Prob(JB):                    7.94e-180\n",
      "Kurtosis:                       2.452   Cond. No.                     7.77e+03\n",
      "==============================================================================\n",
      "\n",
      "Warnings:\n",
      "[1] Standard Errors assume that the covariance matrix of the errors is correctly specified.\n",
      "[2] The condition number is large, 7.77e+03. This might indicate that there are\n",
      "strong multicollinearity or other numerical problems.\n"
     ]
    }
   ],
   "source": [
    "data_notpoor= data[data.poor==0]\n",
    "\n",
    "#Regression for Difference in Difference (include binary variable for 1997 and 1998)\n",
    "\n",
    "model4 = smf.ols(\"sc ~ progresa * C(year) + sex + indig + dist_sec + hohedu + welfare_index + age\",\n",
    "                 data = data_notpoor).fit()\n",
    "print(model4.summary())"
   ]
  },
  {
   "cell_type": "markdown",
   "metadata": {},
   "source": [
    "* Looking at the model summary above, the difference-in-difference estimator (coefficient of progresa:C(year)[T.98]) is -0.0019 with p-value of 0.893 which is statsitically not significant. We would fail to reject the null hypothesis which would mean the treatment effect of progresa program on the non-poor population is zero.\n",
    "\n",
    "* Since the eligibility of the progresa was based on welfare index, one of the reasons for the spilover could be that the non-poor household would have tried to move themselves below the welfare index by showing less of their assets in order to become eligible for PROGRESA and attain its benefits, thus affecting the overall experimental design.\n",
    "    \n",
    "* The other reason could be that as a result of Progresa, the enrollment in smaller schools may increase a lot resulting in crowding which can discourage non-poor households to send their children to those school as the quality of education may deteriorate because of this over-crowding. \n",
    "\n",
    "* The other reason could be that because of eligible household getting more money would increase their affordability, that could increase the demand and prices of the goods in the society. This could make the non-poor households focus more on the business thus getting their children out of the school (dropping the enrollment rate). "
   ]
  },
  {
   "cell_type": "markdown",
   "metadata": {},
   "source": [
    "### 2.7 Summary\n",
    "\n",
    "* Based on all the analysis you have undertaken to date, do you believe that Progresa had a causal impact on the enrollment rates of poor households in Mexico? \n",
    "* Describe one other way that you might analyze these data to further investigate the causal impact of Progresa on enrollment, and clearly state the counterfactual assumption you would need to make for that approach to be valid.  *(Hint: Consider using the non-poor in your analysis)*"
   ]
  },
  {
   "cell_type": "markdown",
   "metadata": {},
   "source": [
    "* Based on the analysis done above, I feel that PROGRESA did have a causal impact on the enrollment rates of the poor households.\n",
    "\n",
    "* Another way to investigate this hypothesis further: one can follow regression discontinuity (non-experimental) approach to further investigate the causal impact of PROGRESA. The poverty index /welfare index could be used as the running variable for measuring the impact of the treatment provided, so in the vicinity of the threshold which separate poor from non-poor, one could see if there is a discontinuity in the average enrollment rates giving evidence in favour of the causal impact.\n",
    "\n",
    "* Counterfactual Assumption: The other variables apart from the welfare index (running variable) should not be affecting the enrollment rate at the threshold level of eligible/not eligible households. The welfare index should not be manipulated to incorporate some specific households and should be properly specified."
   ]
  },
  {
   "cell_type": "code",
   "execution_count": null,
   "metadata": {},
   "outputs": [],
   "source": []
  }
 ],
 "metadata": {
  "anaconda-cloud": {},
  "kernelspec": {
   "display_name": "Python 3",
   "language": "python",
   "name": "python3"
  },
  "language_info": {
   "codemirror_mode": {
    "name": "ipython",
    "version": 3
   },
   "file_extension": ".py",
   "mimetype": "text/x-python",
   "name": "python",
   "nbconvert_exporter": "python",
   "pygments_lexer": "ipython3",
   "version": "3.7.3"
  }
 },
 "nbformat": 4,
 "nbformat_minor": 1
}
