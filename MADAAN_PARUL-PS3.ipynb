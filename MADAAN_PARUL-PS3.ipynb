{
 "cells": [
  {
   "cell_type": "markdown",
   "metadata": {},
   "source": [
    "# Problem Set 3, due October 1 at 11:59pm.\n",
    "\n",
    "### Before You Start\n",
    "\n",
    "Make sure the following libraries load correctly (hit Ctrl-Enter). Note that while you are loading several powerful libraries, including machine learning libraries, the goal of this problem set is to implement several algorithms from scratch. In particular, you should *not* be using any built-in libraries for nearest neighbors, distance metrics, or cross-validation -- your mission is to write those algorithms in Python! Part 1 will be relatively easy; Part 2 will take more time."
   ]
  },
  {
   "cell_type": "code",
   "execution_count": 554,
   "metadata": {},
   "outputs": [],
   "source": [
    "import IPython\n",
    "import numpy as np\n",
    "import scipy as sp\n",
    "import pandas as pd\n",
    "import matplotlib.pyplot as plt\n",
    "import sklearn\n",
    "import time\n",
    "from scipy import linalg\n",
    "import statsmodels.api as sm\n",
    "import copy "
   ]
  },
  {
   "cell_type": "markdown",
   "metadata": {},
   "source": [
    "---\n",
    "\n",
    "## Introduction to the assignment\n",
    "\n",
    "For this assignment, you will be using the [Boston Housing Prices Data Set](http://www.kellogg.northwestern.edu/faculty/weber/emp/_session_3/boston.htm).  Please read about the dataset carefully before continuing.  Use the following commands to load the dataset:\n"
   ]
  },
  {
   "cell_type": "code",
   "execution_count": 125,
   "metadata": {},
   "outputs": [],
   "source": [
    "# load Boston housing data set\n",
    "data = np.loadtxt('data.txt')\n",
    "target = np.loadtxt('target.txt')"
   ]
  },
  {
   "cell_type": "markdown",
   "metadata": {},
   "source": [
    "## Side note: \n",
    "You can use the IPython to easily debug your code. Just add the line IPython.embed() as a break point at some place in\n",
    "your code and it will give you access to a Python terminal where you can view the values that specific variables get, their dimensions etc. The pdb package in Python is also similar to IPython. "
   ]
  },
  {
   "cell_type": "markdown",
   "metadata": {},
   "source": [
    "---\n",
    "\n",
    "## Part 1: Experimental Setup\n",
    "\n",
    "The goal of the next few sections is to design an experiment to predict the median home value for an instance in the data.\n",
    "Before beginning the \"real\" work, refamiliarize yourself with the dataset."
   ]
  },
  {
   "cell_type": "markdown",
   "metadata": {},
   "source": [
    "### 1.1 Begin by writing a function to compute the Root Mean Squared Error for a list of numbers\n",
    "\n",
    "You can find the sqrt function in the Numpy package. Furthermore the details of RMSE can be found on [Wikipedia](http://en.wikipedia.org/wiki/Root-mean-square_deviation). Do not use a built-in function (other than sqrt) to compute RMSE.\n",
    "\n"
   ]
  },
  {
   "cell_type": "code",
   "execution_count": 126,
   "metadata": {},
   "outputs": [],
   "source": [
    "\"\"\"\n",
    "Function\n",
    "--------\n",
    "compute_rmse\n",
    "\n",
    "Given two arrays, one of actual values and one of predicted values,\n",
    "compute the Roote Mean Squared Error\n",
    "\n",
    "Parameters\n",
    "----------\n",
    "predictions : array\n",
    "    Array of numerical values corresponding to predictions for each of the N observations\n",
    "\n",
    "yvalues : array\n",
    "    Array of numerical values corresponding to the actual values for each of the N observations\n",
    "\n",
    "Returns\n",
    "-------\n",
    "rmse : int\n",
    "    Root Mean Squared Error of the prediction\n",
    "\n",
    "Example\n",
    "-------\n",
    ">>> print(compute_rmse((2,2,3),(0,2,6)))\n",
    "2.08\n",
    "\"\"\"\n",
    "def compute_rmse(predictions, yvalues):\n",
    "    \n",
    "    #convert input into array\n",
    "    if type(predictions)!=np.ndarray:\n",
    "        predictions = np.array(predictions)\n",
    "        \n",
    "    if type(yvalues)!=np.ndarray:\n",
    "        yvalues = np.array(yvalues)\n",
    "    \n",
    "    n = len(predictions)\n",
    "    mean_squared = (predictions-yvalues)**2\n",
    "    rmse = np.sqrt(np.sum(mean_squared)/n)\n",
    "    return rmse"
   ]
  },
  {
   "cell_type": "markdown",
   "metadata": {},
   "source": [
    "### 1.2 Divide your data into training and testing datasets\n",
    "\n",
    "Randomly select 80% of the data and put this in a training dataset (call this \"bdata_train\"), and place the remaining 20% in a testing dataset (call this \"bdata_test\")\n"
   ]
  },
  {
   "cell_type": "code",
   "execution_count": 127,
   "metadata": {},
   "outputs": [
    {
     "data": {
      "text/html": [
       "<div>\n",
       "<style scoped>\n",
       "    .dataframe tbody tr th:only-of-type {\n",
       "        vertical-align: middle;\n",
       "    }\n",
       "\n",
       "    .dataframe tbody tr th {\n",
       "        vertical-align: top;\n",
       "    }\n",
       "\n",
       "    .dataframe thead th {\n",
       "        text-align: right;\n",
       "    }\n",
       "</style>\n",
       "<table border=\"1\" class=\"dataframe\">\n",
       "  <thead>\n",
       "    <tr style=\"text-align: right;\">\n",
       "      <th></th>\n",
       "      <th>CRIM</th>\n",
       "      <th>ZN</th>\n",
       "      <th>INDUS</th>\n",
       "      <th>CHAS</th>\n",
       "      <th>NOX</th>\n",
       "      <th>RM</th>\n",
       "      <th>AGE</th>\n",
       "      <th>DIS</th>\n",
       "      <th>RAD</th>\n",
       "      <th>TAX</th>\n",
       "      <th>PTRATIO</th>\n",
       "      <th>B</th>\n",
       "      <th>LSTAT</th>\n",
       "      <th>MEDV</th>\n",
       "    </tr>\n",
       "  </thead>\n",
       "  <tbody>\n",
       "    <tr>\n",
       "      <th>0</th>\n",
       "      <td>0.218960</td>\n",
       "      <td>18.0</td>\n",
       "      <td>2.629288</td>\n",
       "      <td>0.0</td>\n",
       "      <td>0.869420</td>\n",
       "      <td>6.875396</td>\n",
       "      <td>65.2</td>\n",
       "      <td>4.347275</td>\n",
       "      <td>1.0</td>\n",
       "      <td>307.0</td>\n",
       "      <td>15.534711</td>\n",
       "      <td>397.462329</td>\n",
       "      <td>5.715647</td>\n",
       "      <td>24.0</td>\n",
       "    </tr>\n",
       "    <tr>\n",
       "      <th>1</th>\n",
       "      <td>0.141576</td>\n",
       "      <td>0.0</td>\n",
       "      <td>7.315612</td>\n",
       "      <td>0.0</td>\n",
       "      <td>0.549711</td>\n",
       "      <td>6.499894</td>\n",
       "      <td>78.9</td>\n",
       "      <td>5.315684</td>\n",
       "      <td>2.0</td>\n",
       "      <td>255.0</td>\n",
       "      <td>17.914131</td>\n",
       "      <td>397.012611</td>\n",
       "      <td>9.338417</td>\n",
       "      <td>21.6</td>\n",
       "    </tr>\n",
       "    <tr>\n",
       "      <th>2</th>\n",
       "      <td>0.380457</td>\n",
       "      <td>0.0</td>\n",
       "      <td>7.340354</td>\n",
       "      <td>0.0</td>\n",
       "      <td>0.697928</td>\n",
       "      <td>7.263489</td>\n",
       "      <td>61.1</td>\n",
       "      <td>5.356935</td>\n",
       "      <td>2.0</td>\n",
       "      <td>243.0</td>\n",
       "      <td>17.919989</td>\n",
       "      <td>396.628236</td>\n",
       "      <td>4.142473</td>\n",
       "      <td>34.7</td>\n",
       "    </tr>\n",
       "    <tr>\n",
       "      <th>3</th>\n",
       "      <td>0.313563</td>\n",
       "      <td>0.0</td>\n",
       "      <td>2.562407</td>\n",
       "      <td>0.0</td>\n",
       "      <td>0.599629</td>\n",
       "      <td>7.209732</td>\n",
       "      <td>45.8</td>\n",
       "      <td>6.103983</td>\n",
       "      <td>3.0</td>\n",
       "      <td>226.0</td>\n",
       "      <td>18.979527</td>\n",
       "      <td>398.564784</td>\n",
       "      <td>3.239272</td>\n",
       "      <td>33.4</td>\n",
       "    </tr>\n",
       "    <tr>\n",
       "      <th>4</th>\n",
       "      <td>0.330105</td>\n",
       "      <td>0.0</td>\n",
       "      <td>2.497337</td>\n",
       "      <td>0.0</td>\n",
       "      <td>0.476077</td>\n",
       "      <td>7.184111</td>\n",
       "      <td>54.2</td>\n",
       "      <td>6.264372</td>\n",
       "      <td>3.0</td>\n",
       "      <td>234.0</td>\n",
       "      <td>18.708888</td>\n",
       "      <td>399.487766</td>\n",
       "      <td>6.115159</td>\n",
       "      <td>36.2</td>\n",
       "    </tr>\n",
       "  </tbody>\n",
       "</table>\n",
       "</div>"
      ],
      "text/plain": [
       "       CRIM    ZN     INDUS  CHAS       NOX        RM   AGE       DIS  RAD  \\\n",
       "0  0.218960  18.0  2.629288   0.0  0.869420  6.875396  65.2  4.347275  1.0   \n",
       "1  0.141576   0.0  7.315612   0.0  0.549711  6.499894  78.9  5.315684  2.0   \n",
       "2  0.380457   0.0  7.340354   0.0  0.697928  7.263489  61.1  5.356935  2.0   \n",
       "3  0.313563   0.0  2.562407   0.0  0.599629  7.209732  45.8  6.103983  3.0   \n",
       "4  0.330105   0.0  2.497337   0.0  0.476077  7.184111  54.2  6.264372  3.0   \n",
       "\n",
       "     TAX    PTRATIO           B     LSTAT  MEDV  \n",
       "0  307.0  15.534711  397.462329  5.715647  24.0  \n",
       "1  255.0  17.914131  397.012611  9.338417  21.6  \n",
       "2  243.0  17.919989  396.628236  4.142473  34.7  \n",
       "3  226.0  18.979527  398.564784  3.239272  33.4  \n",
       "4  234.0  18.708888  399.487766  6.115159  36.2  "
      ]
     },
     "execution_count": 127,
     "metadata": {},
     "output_type": "execute_result"
    }
   ],
   "source": [
    "#combining data into dataframe \n",
    "boston_data = pd.DataFrame(data)\n",
    "boston_data.columns=['CRIM', 'ZN', 'INDUS', 'CHAS', 'NOX', 'RM', 'AGE', 'DIS', 'RAD', 'TAX', 'PTRATIO', 'B', 'LSTAT']\n",
    "boston_data['MEDV']= target\n",
    "boston_data.head()"
   ]
  },
  {
   "cell_type": "code",
   "execution_count": 134,
   "metadata": {},
   "outputs": [],
   "source": [
    "# leave the following line untouched, it will help ensure that your \"random\" split is the same \"random\" split used by the rest of the class\n",
    "np.random.seed(seed=13579)\n",
    "\n",
    "#function for splitting data\n",
    "def split_data(data,size):\n",
    "    \n",
    "    #shuffling the data randomly\n",
    "    data = data.sample(frac=1).reset_index(drop=True)\n",
    "    \n",
    "    #Train Test split based on size\n",
    "    test=data[: int(size*len(data))]\n",
    "    train=data[int(size*len(data)):]\n",
    "    \n",
    "    return train,test\n",
    "\n",
    "bdata_train,bdata_test= split_data(boston_data,0.2)\n",
    "\n",
    "bdata_train.reset_index(drop=True, inplace=True)\n",
    "bdata_test.reset_index(drop=True, inplace=True)"
   ]
  },
  {
   "cell_type": "markdown",
   "metadata": {},
   "source": [
    "### 1.3 Use a very bad baseline for prediction, and compute RMSE\n",
    "\n",
    "Create a model that predicts, for every observation x_i, that the median home value is the average (mean) of the median values for all instances in the training set.  Specifically, do the following:\n",
    "1. Compute the RMSE of the training set.\n",
    "2. Now compute the RMSE on the test data set (but use the model you trained on the training set!).\n",
    "3. How does RMSE compare for training vs. testing datasets? Is this what you expected, and why?\n",
    "4. Create a scatter plot that shows the true value of each instance on the x-axis and the predicted value of each instance on the y-axis. Color the training instances in blue and the test instances in red. Make sure to label your axes appropriately, and add a legend to your figure to make clear which dots are which.\n",
    "5. Add code to your function to measure the running time of your algorithm. How long does it take to compute the predicted values for the test data?"
   ]
  },
  {
   "cell_type": "code",
   "execution_count": 598,
   "metadata": {},
   "outputs": [
    {
     "name": "stdout",
     "output_type": "stream",
     "text": [
      "Train RMSE:\n",
      "9.313421702432809\n",
      "Time Taken for prediction: \n",
      "0.0\n",
      "Test RMSE:\n",
      "8.670683009395466\n"
     ]
    }
   ],
   "source": [
    "#Mean value baseline model\n",
    "baseline_model = np.mean(bdata_train['MEDV'])\n",
    "\n",
    "#Training RMSE\n",
    "train_predictions_baseline= np.ones(len(bdata_train))*baseline_model\n",
    "train_baseline_RMSE = compute_rmse(train_predictions_baseline, bdata_train['MEDV'])\n",
    "print(\"Train RMSE:\")\n",
    "print(train_baseline_RMSE)\n",
    "\n",
    "#Computing time taken for predicting on test data\n",
    "start_time = time.time()\n",
    "test_predictions_baseline = np.ones(len(bdata_test)) * baseline_model\n",
    "end_time = time.time()\n",
    "time_test_prediction = end_time - start_time\n",
    "print(\"Time Taken for prediction: \")\n",
    "print(time_test_prediction)\n",
    "\n",
    "#Test RMSE\n",
    "test_baseline_RMSE = compute_rmse(test_predictions_baseline,bdata_test['MEDV'])\n",
    "print(\"Test RMSE:\")\n",
    "print(test_baseline_RMSE)"
   ]
  },
  {
   "cell_type": "code",
   "execution_count": 597,
   "metadata": {},
   "outputs": [
    {
     "data": {
      "image/png": "[encoded data removed]",
      "text/plain": [
       "<Figure size 576x432 with 1 Axes>"
      ]
     },
     "metadata": {
      "needs_background": "light"
     },
     "output_type": "display_data"
    }
   ],
   "source": [
    "#Plotting\n",
    "fig = plt.figure(figsize=(8,6))\n",
    "ax = fig.add_subplot()\n",
    "\n",
    "ax.scatter(bdata_train['MEDV'], train_predictions_baseline, c='blue', label='Train Data', alpha=0.5)\n",
    "ax.scatter(bdata_test['MEDV'], test_predictions_baseline, c='red', label='Test Data', alpha=0.5)\n",
    "\n",
    "ax.set_xlabel(\"Observed median value of owner-occupied homes (in $1000's)\")\n",
    "ax.set_ylabel(\"Predicted median value of owner-occupied homes (in $1000's)\")\n",
    "ax.set_title(\"Train and Test Baseline Model Prediction\")\n",
    "\n",
    "ax.legend()\n",
    "\n",
    "plt.show(fig)"
   ]
  },
  {
   "cell_type": "markdown",
   "metadata": {},
   "source": [
    "1. Train RMSE: 9.313421702432809\n",
    "\n",
    "2. Test RMSE: 8.670683009395466\n",
    "\n",
    "3. Training and Test set RMSE is comparable, in line with my expectation.\n",
    "\n",
    "4. It took almost negligible (zero second) to compute the predicted value for test set."
   ]
  },
  {
   "cell_type": "markdown",
   "metadata": {},
   "source": [
    "### 1.4 Use local linear regression for prediction, and compute RMSE.\n",
    "\n",
    "Create a model that predicts, for every observation of nitric oxide concentration the median home value using local linear regression\n",
    "with Epanechnikov kernels (https://en.wikipedia.org/wiki/Kernel_(statistics)).\n",
    "1. Create a scatter plot of the test and training data sets (use different colors for the two). Add on that plot the fit\n",
    "that you get from the local linear regression.\n",
    "2. Tune the smoothing parameter (the window that Epanechnikov kernels are nonegative) so that the RMSE for the test set is low. \n"
   ]
  },
  {
   "cell_type": "markdown",
   "metadata": {},
   "source": [
    "First create a function that implements the Epanechnikov kernel which you will need to weight the data points."
   ]
  },
  {
   "cell_type": "code",
   "execution_count": 777,
   "metadata": {},
   "outputs": [],
   "source": [
    "def epan_ker(target, data_x, gamma):\n",
    "    '''\n",
    "    Compute the epanechnikov weights. data_x denote the predictors (nitric oxide levels in our case)\n",
    "    and target denotes the house median value. The gamma parameter controls the smoothing. \n",
    "    Inputs: predictors, targets and smoothing parameter gamma \n",
    "    '''\n",
    "    dist = abs(target-data_x)\n",
    "    \n",
    "    gamma_percentile= np.percentile(dist, gamma*100)\n",
    "    \n",
    "    #scaling dist\n",
    "    dist_scaled = dist/gamma_percentile\n",
    "\n",
    "    weights =np.where(dist_scaled <= 1, 0.75*(1-dist_scaled**2), 0)\n",
    "    \n",
    "    return weights"
   ]
  },
  {
   "cell_type": "markdown",
   "metadata": {},
   "source": [
    "Write the main code for local linear regression:\n"
   ]
  },
  {
   "cell_type": "code",
   "execution_count": 749,
   "metadata": {},
   "outputs": [],
   "source": [
    "data_x = bdata_train['NOX']\n",
    "data_y = bdata_train['MEDV']"
   ]
  },
  {
   "cell_type": "code",
   "execution_count": 778,
   "metadata": {},
   "outputs": [],
   "source": [
    "def lowess(x,y,gamma):\n",
    "    n = len(x)\n",
    "    y_estimated = np.zeros(n)\n",
    "    \n",
    "    #Looping through all x-points\n",
    "    for i in range(n):\n",
    "        weights = epan_ker(x[i],data_x,gamma)\n",
    "        wx=weights*data_x\n",
    "        \n",
    "        # mean of x and y vector \n",
    "        m_x, m_y = np.mean(wx), np.mean(y)\n",
    "        \n",
    "        # calculating cross-deviation and deviation about x \n",
    "        SS_xy = np.sum(y*wx) - n*m_y*m_x \n",
    "        SS_xx = np.sum(wx*wx) - n*m_x*m_x \n",
    "        \n",
    "        # calculating regression coefficients\n",
    "        b_1 = SS_xy / SS_xx \n",
    "        b_0 = m_y - b_1*m_x \n",
    "        \n",
    "        y_estimated[i] = b_0 + b_1 * x[i] \n",
    "\n",
    "    return y_estimated"
   ]
  },
  {
   "cell_type": "code",
   "execution_count": 848,
   "metadata": {},
   "outputs": [],
   "source": [
    "#Prediction on Train Data\n",
    "y_train=bdata_train['MEDV']\n",
    "x_train=bdata_train['NOX']\n",
    "train_predicted=lowess(x_train,y_train,0.1)"
   ]
  },
  {
   "cell_type": "code",
   "execution_count": 849,
   "metadata": {},
   "outputs": [],
   "source": [
    "#Prediction on Test Data\n",
    "y_test=bdata_test['MEDV']\n",
    "x_test=bdata_test['NOX']\n",
    "test_predicted=lowess(x_test,y_test,0.1)"
   ]
  },
  {
   "cell_type": "code",
   "execution_count": 850,
   "metadata": {},
   "outputs": [
    {
     "name": "stdout",
     "output_type": "stream",
     "text": [
      "Train RMSE:\n",
      "8.90480048674698\n",
      "Test RMSE:\n",
      "8.335377232173132\n"
     ]
    }
   ],
   "source": [
    "#Training RMSE\n",
    "train_lowess_RMSE = compute_rmse(train_predicted, bdata_train['MEDV'])\n",
    "print(\"Train RMSE:\")\n",
    "print(train_lowess_RMSE)\n",
    "\n",
    "#Test RMSE\n",
    "test_lowess_RMSE = compute_rmse(test_predicted,bdata_test['MEDV'])\n",
    "print(\"Test RMSE:\")\n",
    "print(test_lowess_RMSE)"
   ]
  },
  {
   "cell_type": "code",
   "execution_count": 851,
   "metadata": {},
   "outputs": [
    {
     "data": {
      "image/png": "[encoded data removed]",
      "text/plain": [
       "<Figure size 720x432 with 1 Axes>"
      ]
     },
     "metadata": {
      "needs_background": "light"
     },
     "output_type": "display_data"
    }
   ],
   "source": [
    "def plot_lowess(x_train, y_train, x_test, y_test, x_plot, y_plot):\n",
    "    '''\n",
    "    Scatter plot of data points along with lowess fit.\n",
    "    Inputs: training and test data points, lowess fitted values\n",
    "    '''\n",
    "    fig = plt.figure(figsize=(10,6))\n",
    "    ax = fig.add_subplot()\n",
    "\n",
    "    ax.scatter(x_train, y_train, c='blue', label='Train Data', alpha=0.4)\n",
    "    ax.scatter(x_test, y_test, c='red', label='Test Data', alpha=0.4)\n",
    "    ax.scatter(x_train,x_plot,c=\"green\",label='Train Lowess Fit')\n",
    "    ax.scatter(x_test,y_plot,c=\"black\",label='Test Lowess Fit')\n",
    "\n",
    "    ax.set_xlabel(\"NOX\")\n",
    "    ax.set_ylabel(\"Median value of owner-occupied homes (in $1000's)\")\n",
    "    ax.set_title(\"Train and Test Lowess Model\")\n",
    "\n",
    "    ax.legend()\n",
    "\n",
    "    plt.show(fig)\n",
    "    \n",
    "plot_lowess(x_train, y_train, x_test, y_test, train_predicted, test_predicted)"
   ]
  },
  {
   "cell_type": "markdown",
   "metadata": {},
   "source": [
    "---\n",
    "\n",
    "## Part 2: Nearest Neighbors\n"
   ]
  },
  {
   "cell_type": "markdown",
   "metadata": {},
   "source": [
    "### 2.1 Nearest Neighbors: Distance function\n",
    "Let's try and build a machine learning algorithm to beat the \"Average Value\" baseline that you computed above.  Soon you will implement the Nearest Neighbor algorithm, but first you need to create a distance metric to measure the distance (and similarity) between two instances.  Write a generic function to compute the L-Norm distance (called the [*p*-norm][1] distance on Wikipedia). Verify that your function works by computing the Euclidean distance between the points (3,4) and (6,8).\n",
    "[1]: https://en.wikipedia.org/wiki/Norm_(mathematics)#p-norm"
   ]
  },
  {
   "cell_type": "code",
   "execution_count": 602,
   "metadata": {},
   "outputs": [],
   "source": [
    "\"\"\"\n",
    "Function\n",
    "--------\n",
    "distance\n",
    "\n",
    "Given two instances and a value for L, return the L-Norm distance between them\n",
    "\n",
    "Parameters\n",
    "----------\n",
    "x1, x2 : array\n",
    "    Array of numerical values corresponding to predictions for each of the N observations\n",
    "\n",
    "L: int\n",
    "    Value of L to use in computing distances\n",
    "\n",
    "Returns\n",
    "-------\n",
    "dist : int\n",
    "    The L-norm distance between instances\n",
    "\n",
    "Example\n",
    "-------\n",
    ">>> print(distance((3,4),(6,8),2))\n",
    "5\n",
    "\n",
    "\"\"\"\n",
    "def distance(x1, x2, L):\n",
    "    \n",
    "    if type(x1)!=np.ndarray:\n",
    "        x1 = np.array(x1)\n",
    "    \n",
    "    if type(x2)!=np.ndarray:\n",
    "        x2 = np.array(x2)\n",
    "    \n",
    "            \n",
    "    # L-norm distance when x2 has many points in it\n",
    "    if x2.ndim!=1:\n",
    "        dist = (np.sum((abs(x1 - x2))**L, axis=1))**(1/L)\n",
    "        \n",
    "    # L-norm distance when x2 has a single point in it\n",
    "    else:\n",
    "        dist = (np.sum((abs(x1 - x2))**L))**(1/L)\n",
    "\n",
    "    return dist"
   ]
  },
  {
   "cell_type": "markdown",
   "metadata": {},
   "source": [
    "### 2.2 Basic Nearest Neighbor algorithm\n",
    "\n",
    "Your next task is to implement a basic nearest neighbor algorithm from scratch.  Your simple model will use two input features (CRIM and RM) and a single output (MEDV).  In other words, you are modelling the relationship between median home value and crime rates and house size.\n",
    "\n",
    "Use your training data (bdata_train) to \"fit\" your model, although as you know, with Nearest Neighbors there is no real training, you just need to keep your training data in memory.  Write a function that predicts the median home value using the nearest neighbor algorithm we discussed in class.  Since this is a small dataset, you can simply compare your test instance to every instance in the training set, and return the MEDV value of the closest training instance.  Have your function take L as an input, where L is passed to the distance function.\n",
    "\n",
    "Make sure to do the following\n",
    "1. Fill in the function specification below\n",
    "2. Use your algorithm to predict the median home value of every instance in the test set. Report the RMSE (\"test RMSE\")\n",
    "3. Use your algorithm to predict the median home value of every instance in the training set and report the training RMSE.\n",
    "4. Create a scatter plot that shows the true value of each instance on the x-axis and the predicted value of each instance on the y-axis. Color the training instances in blue and the test instances in red. \n",
    "5. Report an estimate of the total time taken by your code to predict the nearest neighbors for all the values in the test data set.\n",
    "6. How does the performance (test RMSE and total runtime) of your nearest neighbors algorithm compare to the baseline in part 1.4?"
   ]
  },
  {
   "cell_type": "code",
   "execution_count": 603,
   "metadata": {},
   "outputs": [
    {
     "name": "stdout",
     "output_type": "stream",
     "text": [
      "Train Results:\n",
      "Time taken: 0.021 seconds\n",
      "Nearest Neighbour: Train RMSE\n",
      "0.0\n",
      "\n",
      "Test Results:\n",
      "Time taken: 0.004 seconds\n",
      "Nearest Neighbour: Test RMSE\n",
      "7.395964915391566\n"
     ]
    }
   ],
   "source": [
    "\"\"\"\n",
    " Function for predicting the median house value using nearest neighbour approach.\n",
    "\n",
    "    Parameters\n",
    "    ----------\n",
    "    X_Train : array\n",
    "        Coordinates of the train points \n",
    "        \n",
    "    Y_Train : array\n",
    "        Observed values of the train points\n",
    "        \n",
    "    X_Test : array\n",
    "        Coordinates of the test points\n",
    "        \n",
    "    Y_Test : array\n",
    "        Observed values of the train points\n",
    "\n",
    "    L : int\n",
    "        Value of L to be used in computing distances.\n",
    "        \n",
    "    ignore_exact: boolean\n",
    "        If true, don't use the same point for calculating nearest neighbour\n",
    "\n",
    "    Returns\n",
    "    -------\n",
    "    Y_Test_predicted : array\n",
    "        Predicted values of the test points.\n",
    "        \n",
    "    rmse : float\n",
    "        RMSE between the predicted and observed values for the test points.\n",
    "        \n",
    "    timme_taken : float\n",
    "        Duration (in seconds) to predict the values of the test points (does not include time to compute RMSE).\n",
    "\"\"\"\n",
    "def nneighbor(X_Train,Y_Train,X_Test,Y_Test, L):\n",
    "    \n",
    "    start_time = time.time()\n",
    "    Y_Test_predicted = np.zeros(len(X_Test))\n",
    "    \n",
    "    #Compute distances\n",
    "    for i in range(len(X_Test)):\n",
    "        dist = distance(X_Test[i], X_Train, L)\n",
    "        \n",
    "        Y_Test_predicted[i] = Y_Train[np.argmin(dist)]\n",
    "            \n",
    "    # RMSE\n",
    "    rmse = compute_rmse(Y_Test_predicted, Y_Test)\n",
    "    \n",
    "    t=(time.time() - start_time)\n",
    "    \n",
    "    print(\"Time taken: {:.3f} seconds\".format(time.time() - start_time))\n",
    "    \n",
    "    return Y_Test_predicted,rmse,t\n",
    "\n",
    "\n",
    "#Computing RMSE based on nearest neighbour\n",
    "print(\"Train Results:\")\n",
    "#Train RMSE\n",
    "train_NN_Predicted, train_NN_RMSE, train_NN_t  = nneighbor(bdata_train[['CRIM','RM']].values,bdata_train['MEDV'].values,\n",
    "                                                bdata_train[['CRIM','RM']].values,bdata_train['MEDV'].values, 2)\n",
    "\n",
    "print(\"Nearest Neighbour: Train RMSE\")\n",
    "print(train_NN_RMSE)\n",
    "\n",
    "print()\n",
    "print(\"Test Results:\")\n",
    "#Test RMSE\n",
    "test_NN_Predicted, test_NN_RMSE, test_NN_t = nneighbor(bdata_train[['CRIM','RM']].values,bdata_train['MEDV'].values,\n",
    "                                                       bdata_test[['CRIM','RM']].values,bdata_test['MEDV'].values,2)\n",
    "print(\"Nearest Neighbour: Test RMSE\")\n",
    "print(test_NN_RMSE)"
   ]
  },
  {
   "cell_type": "code",
   "execution_count": 604,
   "metadata": {},
   "outputs": [
    {
     "data": {
      "image/png": "[encoded data removed]",
      "text/plain": [
       "<Figure size 504x504 with 1 Axes>"
      ]
     },
     "metadata": {
      "needs_background": "light"
     },
     "output_type": "display_data"
    }
   ],
   "source": [
    "#Plotting\n",
    "fig = plt.figure(figsize=(7,7))\n",
    "ax = fig.add_subplot()\n",
    "\n",
    "ax.scatter(bdata_train['MEDV'], train_NN_Predicted, c='blue', label='Train Data', alpha=0.5)\n",
    "ax.scatter(bdata_test['MEDV'], test_NN_Predicted, c='red', label='Test Data', alpha=0.5)\n",
    "\n",
    "ax.set_xlabel(\"Observed median value of owner-occupied homes (in $1000's)\")\n",
    "ax.set_ylabel(\"Predicted median value of owner-occupied homes (in $1000's)\")\n",
    "ax.set_title(\"Train and Test Nearest Neighbour Model Prediction\")\n",
    "\n",
    "ax.legend()\n",
    "\n",
    "plt.show(fig)"
   ]
  },
  {
   "cell_type": "markdown",
   "metadata": {},
   "source": [
    "* Train Results:\n",
    "    * Time taken: 0.021 seconds\n",
    "    * Nearest Neighbour: Train RMSE\n",
    "    * 0.0\n",
    "\n",
    "* Test Results:\n",
    "    * Time taken: 0.004 seconds\n",
    "    * Nearest Neighbour: Test RMSE\n",
    "    * 7.395964915391566\n",
    "\n",
    "* Comparing with result in 1.3, Test RMSE has decreased a little from 8.67 to 7.395. In terms of runtime, it took around 0.004 seconds as compared to Zero second for baseline "
   ]
  },
  {
   "cell_type": "markdown",
   "metadata": {},
   "source": [
    "### 2.3 Results and Normalization\n",
    "\n",
    "If you were being astute, you would have noticed that we never normalized our features -- a big no-no with Nearest Neighbor algorithms.  Write a generic normalization function that takes as input an array of values for a given feature, and returns the normalized array (subtract the mean and divide by the standard deviation).\n",
    "\n",
    "Re-run the Nearest Neighbor algorithm on the normalized dataset (still just using CRIM and RM as input), and compare the RMSE from this method with your previous RMSE evaluations. What do you observe?\n",
    "\n",
    "*NOTE*: To normalize properly, best practice is to compute the mean and standard deviation on the training set, and use these values to normalize the testing dataset. However, for this problem set, it is okay if you separately normalize each dataset using the respective mean and standard deviation.\n",
    "\n",
    "*NOTE 2*: In this case, there might not be a major impact on RMSE; don't get confused if you find that to be the case."
   ]
  },
  {
   "cell_type": "code",
   "execution_count": 605,
   "metadata": {},
   "outputs": [],
   "source": [
    "\"\"\"\n",
    "Normalize an array\n",
    "\n",
    "Parameters\n",
    "----------\n",
    "raw_data : array\n",
    "    Original data\n",
    "\n",
    "Returns\n",
    "-------\n",
    "normalized_data : array\n",
    "    Normalized input data\n",
    "\"\"\"\n",
    "\n",
    "def normalize(raw_data):\n",
    "    \n",
    "    normalized_data= (raw_data - np.mean(raw_data))/np.std(raw_data)\n",
    "        \n",
    "    return normalized_data\n",
    "\n",
    "\n",
    "bdata_train_normalized = bdata_train.copy()\n",
    "for col in bdata_train.columns:\n",
    "    if col!='MEDV':\n",
    "        bdata_train_normalized[col] = normalize(bdata_train[col])\n",
    "    \n",
    "bdata_test_normalized = bdata_test.copy()\n",
    "for col in bdata_test.columns:\n",
    "    if col!='MEDV':\n",
    "        bdata_test_normalized[col] = normalize(bdata_test[col])"
   ]
  },
  {
   "cell_type": "code",
   "execution_count": 607,
   "metadata": {},
   "outputs": [
    {
     "name": "stdout",
     "output_type": "stream",
     "text": [
      "Train Results:\n",
      "Time taken: 0.021 seconds\n",
      "Nearest Neighbour: Train RMSE\n",
      "0.0\n",
      "\n",
      "Test Results:\n",
      "Time taken: 0.004 seconds\n",
      "Nearest Neighbour: Test RMSE\n",
      "5.164386806689533\n"
     ]
    }
   ],
   "source": [
    "#Computing RMSE based on normalized data using nearest neighbour\n",
    "\n",
    "print(\"Train Results:\")\n",
    "#Train RMSE\n",
    "train_NN_Predicted_normalized, train_NN_RMSE_normalized,train_NN_t_normalized = nneighbor(bdata_train_normalized[['CRIM','RM']].values,bdata_train_normalized['MEDV'].values,\n",
    "                                                bdata_train_normalized[['CRIM','RM']].values,bdata_train_normalized['MEDV'].values, 2)\n",
    "\n",
    "print(\"Nearest Neighbour: Train RMSE\")\n",
    "print(train_NN_RMSE_normalized)\n",
    "\n",
    "print()\n",
    "print(\"Test Results:\")\n",
    "#Test RMSE\n",
    "test_NN_Predicted_normalized, test_NN_RMSE_normalized, test_NN_t_normalized = nneighbor(bdata_train_normalized[['CRIM','RM']].values,bdata_train_normalized['MEDV'].values,\n",
    "                                                       bdata_test_normalized[['CRIM','RM']].values,bdata_test_normalized['MEDV'].values,2)\n",
    "print(\"Nearest Neighbour: Test RMSE\")\n",
    "print(test_NN_RMSE_normalized)"
   ]
  },
  {
   "cell_type": "markdown",
   "metadata": {},
   "source": [
    "RMSE for normalized test data (5.16) is smaller than previous RMSE of test data (around 7.39).  "
   ]
  },
  {
   "cell_type": "markdown",
   "metadata": {},
   "source": [
    "### 2.4 Optimization\n",
    "\n",
    "A lot of the decisions we've made so far have been arbitrary.  Try to increase the performance of your nearest neighbor algorithm by adding features that you think might be relevant, and by using different values of L in the distance function.  Try a model that uses a different set of 2 features, then try at least one model that uses more than 4 features, then try using a different value of L.  If you're having fun, try a few different combinations of features and L!\n",
    "\n",
    "What combination of features and distance function provide the lowest RMSE?  Do your decisions affect the running time of the algorithm?\n",
    "\n",
    "*NOTE:* For this and all subsequent questions, you should use normalized features"
   ]
  },
  {
   "cell_type": "code",
   "execution_count": 188,
   "metadata": {},
   "outputs": [
    {
     "data": {
      "text/plain": [
       "Index(['CRIM', 'ZN', 'INDUS', 'CHAS', 'NOX', 'RM', 'AGE', 'DIS', 'RAD', 'TAX',\n",
       "       'PTRATIO', 'B', 'LSTAT', 'MEDV'],\n",
       "      dtype='object')"
      ]
     },
     "execution_count": 188,
     "metadata": {},
     "output_type": "execute_result"
    }
   ],
   "source": [
    "bdata_train.columns"
   ]
  },
  {
   "cell_type": "code",
   "execution_count": 608,
   "metadata": {},
   "outputs": [
    {
     "name": "stdout",
     "output_type": "stream",
     "text": [
      "Train Results:\n",
      "Time taken: 0.044 seconds\n",
      "Nearest Neighbour: Train RMSE\n",
      "0.0\n",
      "\n",
      "Test Results:\n",
      "Time taken: 0.011 seconds\n",
      "Nearest Neighbour: Test RMSE\n",
      "6.8762901579728055\n"
     ]
    }
   ],
   "source": [
    "#Trying models with features: LSTAT and CHAS with L=3\n",
    "\n",
    "#Computing RMSE based on normalized data using nearest neighbour\n",
    "\n",
    "print(\"Train Results:\")\n",
    "#Train RMSE\n",
    "train_NN_Predicted_normalized, train_NN_RMSE_normalized,train_NN_t_normalized = nneighbor(bdata_train_normalized[['LSTAT','CHAS']].values,bdata_train_normalized['MEDV'].values,\n",
    "                                                bdata_train_normalized[['LSTAT','CHAS']].values,bdata_train_normalized['MEDV'].values, 3)\n",
    "\n",
    "print(\"Nearest Neighbour: Train RMSE\")\n",
    "print(train_NN_RMSE_normalized)\n",
    "\n",
    "print()\n",
    "print(\"Test Results:\")\n",
    "#Test RMSE\n",
    "test_NN_Predicted_normalized, test_NN_RMSE_normalized, test_NN_t_normalized = nneighbor(bdata_train_normalized[['LSTAT','CHAS']].values,bdata_train_normalized['MEDV'].values,\n",
    "                                                       bdata_test_normalized[['LSTAT','CHAS']].values,bdata_test_normalized['MEDV'].values,3)\n",
    "print(\"Nearest Neighbour: Test RMSE\")\n",
    "print(test_NN_RMSE_normalized)"
   ]
  },
  {
   "cell_type": "code",
   "execution_count": 609,
   "metadata": {},
   "outputs": [
    {
     "name": "stdout",
     "output_type": "stream",
     "text": [
      "Train Results:\n",
      "Time taken: 0.051 seconds\n",
      "Nearest Neighbour: Train RMSE\n",
      "0.0\n",
      "\n",
      "Test Results:\n",
      "Time taken: 0.013 seconds\n",
      "Nearest Neighbour: Test RMSE\n",
      "10.79526849050908\n"
     ]
    }
   ],
   "source": [
    "#Trying models with features: PTRATIO and NOX with L=5\n",
    "\n",
    "#Computing RMSE based on normalized data using nearest neighbour\n",
    "\n",
    "print(\"Train Results:\")\n",
    "#Train RMSE\n",
    "train_NN_Predicted_normalized, train_NN_RMSE_normalized,train_NN_t_normalized = nneighbor(bdata_train_normalized[['PTRATIO','NOX']].values,bdata_train_normalized['MEDV'].values,\n",
    "                                                bdata_train_normalized[['PTRATIO','NOX']].values,bdata_train_normalized['MEDV'].values, 5)\n",
    "\n",
    "print(\"Nearest Neighbour: Train RMSE\")\n",
    "print(train_NN_RMSE_normalized)\n",
    "\n",
    "print()\n",
    "print(\"Test Results:\")\n",
    "#Test RMSE\n",
    "test_NN_Predicted_normalized, test_NN_RMSE_normalized, test_NN_t_normalized = nneighbor(bdata_train_normalized[['PTRATIO','NOX']].values,bdata_train_normalized['MEDV'].values,\n",
    "                                                       bdata_test_normalized[['PTRATIO','NOX']].values,bdata_test_normalized['MEDV'].values,5)\n",
    "print(\"Nearest Neighbour: Test RMSE\")\n",
    "print(test_NN_RMSE_normalized)"
   ]
  },
  {
   "cell_type": "code",
   "execution_count": 610,
   "metadata": {},
   "outputs": [
    {
     "name": "stdout",
     "output_type": "stream",
     "text": [
      "Train Results:\n",
      "Time taken: 0.044 seconds\n",
      "Nearest Neighbour: Train RMSE\n",
      "0.0\n",
      "\n",
      "Test Results:\n",
      "Time taken: 0.011 seconds\n",
      "Nearest Neighbour: Test RMSE\n",
      "6.202275213321493\n"
     ]
    }
   ],
   "source": [
    "#Trying models with features: PTRATIO and LSTAT with L=4\n",
    "\n",
    "#Computing RMSE based on normalized data using nearest neighbour\n",
    "\n",
    "print(\"Train Results:\")\n",
    "#Train RMSE\n",
    "train_NN_Predicted_normalized, train_NN_RMSE_normalized,train_NN_t_normalized = nneighbor(bdata_train_normalized[['PTRATIO','LSTAT']].values,bdata_train_normalized['MEDV'].values,\n",
    "                                                bdata_train_normalized[['PTRATIO','LSTAT']].values,bdata_train_normalized['MEDV'].values, 4)\n",
    "\n",
    "print(\"Nearest Neighbour: Train RMSE\")\n",
    "print(train_NN_RMSE_normalized)\n",
    "\n",
    "print()\n",
    "print(\"Test Results:\")\n",
    "#Test RMSE\n",
    "test_NN_Predicted_normalized, test_NN_RMSE_normalized, test_NN_t_normalized = nneighbor(bdata_train_normalized[['PTRATIO','LSTAT']].values,bdata_train_normalized['MEDV'].values,\n",
    "                                                       bdata_test_normalized[['PTRATIO','LSTAT']].values,bdata_test_normalized['MEDV'].values,4)\n",
    "print(\"Nearest Neighbour: Test RMSE\")\n",
    "print(test_NN_RMSE_normalized)"
   ]
  },
  {
   "cell_type": "code",
   "execution_count": 611,
   "metadata": {},
   "outputs": [
    {
     "name": "stdout",
     "output_type": "stream",
     "text": [
      "Train Results:\n",
      "Time taken: 0.083 seconds\n",
      "Nearest Neighbour: Train RMSE\n",
      "0.0\n",
      "\n",
      "Test Results:\n",
      "Time taken: 0.021 seconds\n",
      "Nearest Neighbour: Test RMSE\n",
      "7.156185443307761\n"
     ]
    }
   ],
   "source": [
    "#Trying models with features: PTRATIO,CRIM, NOX, AGE and LSTAT with L=4\n",
    "\n",
    "#Computing RMSE based on normalized data using nearest neighbour\n",
    "\n",
    "print(\"Train Results:\")\n",
    "#Train RMSE\n",
    "train_NN_Predicted_normalized, train_NN_RMSE_normalized,train_NN_t_normalized = nneighbor(bdata_train_normalized[['PTRATIO','LSTAT','CRIM','NOX','AGE']].values,bdata_train_normalized['MEDV'].values,\n",
    "                                                bdata_train_normalized[['PTRATIO','LSTAT','CRIM','NOX','AGE']].values,bdata_train_normalized['MEDV'].values, 4)\n",
    "\n",
    "print(\"Nearest Neighbour: Train RMSE\")\n",
    "print(train_NN_RMSE_normalized)\n",
    "\n",
    "print()\n",
    "print(\"Test Results:\")\n",
    "#Test RMSE\n",
    "test_NN_Predicted_normalized, test_NN_RMSE_normalized, test_NN_t_normalized = nneighbor(bdata_train_normalized[['PTRATIO','LSTAT','CRIM','NOX','AGE']].values,bdata_train_normalized['MEDV'].values,\n",
    "                                                       bdata_test_normalized[['PTRATIO','LSTAT','CRIM','NOX','AGE']].values,bdata_test_normalized['MEDV'].values,4)\n",
    "print(\"Nearest Neighbour: Test RMSE\")\n",
    "print(test_NN_RMSE_normalized)"
   ]
  },
  {
   "cell_type": "code",
   "execution_count": 612,
   "metadata": {},
   "outputs": [
    {
     "name": "stdout",
     "output_type": "stream",
     "text": [
      "Train Results:\n",
      "Time taken: 0.082 seconds\n",
      "Nearest Neighbour: Train RMSE\n",
      "0.0\n",
      "\n",
      "Test Results:\n",
      "Time taken: 0.020 seconds\n",
      "Nearest Neighbour: Test RMSE\n",
      "7.352860290760701\n"
     ]
    }
   ],
   "source": [
    "#Trying models with features: PTRATIO,CRIM, NOX, AGE and LSTAT with L=6\n",
    "\n",
    "#Computing RMSE based on normalized data using nearest neighbour\n",
    "\n",
    "print(\"Train Results:\")\n",
    "#Train RMSE\n",
    "train_NN_Predicted_normalized, train_NN_RMSE_normalized,train_NN_t_normalized = nneighbor(bdata_train_normalized[['PTRATIO','LSTAT','CRIM','NOX','AGE']].values,bdata_train_normalized['MEDV'].values,\n",
    "                                                bdata_train_normalized[['PTRATIO','LSTAT','CRIM','NOX','AGE']].values,bdata_train_normalized['MEDV'].values, 6)\n",
    "\n",
    "print(\"Nearest Neighbour: Train RMSE\")\n",
    "print(train_NN_RMSE_normalized)\n",
    "\n",
    "print()\n",
    "print(\"Test Results:\")\n",
    "#Test RMSE\n",
    "test_NN_Predicted_normalized, test_NN_RMSE_normalized, test_NN_t_normalized = nneighbor(bdata_train_normalized[['PTRATIO','LSTAT','CRIM','NOX','AGE']].values,bdata_train_normalized['MEDV'].values,\n",
    "                                                       bdata_test_normalized[['PTRATIO','LSTAT','CRIM','NOX','AGE']].values,bdata_test_normalized['MEDV'].values,6)\n",
    "print(\"Nearest Neighbour: Test RMSE\")\n",
    "print(test_NN_RMSE_normalized)"
   ]
  },
  {
   "cell_type": "markdown",
   "metadata": {},
   "source": [
    "* For me, the following combination of features worked the best, giving the smallest RMSE: **PTRATIO and LSTAT with L=4**\n",
    "* Comparing the time taken by all the model, yes, choice of decisions do affect the runtime of the algorithm. "
   ]
  },
  {
   "cell_type": "markdown",
   "metadata": {},
   "source": [
    "### 2.5 Cross-Validation\n",
    "\n",
    "The more you tinkered with your features and distance function, the higher the risk that you overfit your training data.  One solution to this sort of overfitting is to use cross-validation (see K-fold [cross-validation][1].  Here you must implement a simple k-fold cross-validation algorithm yourself.  The function you write here will be used several more times in this problem set, so do your best to write efficient code! (Note that the sklearn package has a built-in [K-fold][2] iterator -- you should *not* be invoking that or any related algorithms in this section of the problem set.)\n",
    "\n",
    "Use 10-fold cross-validation and report the average RMSE for Nearest Neighbors using Euclidean distance with CRIM and RM input features, as well as the total running time for the full run of 10 folds.  In other words, randomly divide your dataset into 10 equally-sized samples, and for each of 10 iterations (the \"folds\"), use 9 samples as \"training data\" (even though there is no training in k-NN!), and the remaining 1 sample for testing.  Compute the RMSE of that particular test set, then move on to the next iteration.  Report the average RMSE across the 10 iterations. What do you observe?\n",
    "[1]: http://en.wikipedia.org/wiki/Cross-validation_(statistics)\n",
    "[2]: http://scikit-learn.org/stable/modules/cross_validation.html#cross-validation"
   ]
  },
  {
   "cell_type": "code",
   "execution_count": 613,
   "metadata": {},
   "outputs": [
    {
     "name": "stdout",
     "output_type": "stream",
     "text": [
      "Time taken: 0.002 seconds\n",
      "Time taken: 0.002 seconds\n",
      "Time taken: 0.002 seconds\n",
      "Time taken: 0.002 seconds\n",
      "Time taken: 0.003 seconds\n",
      "Time taken: 0.002 seconds\n",
      "Time taken: 0.002 seconds\n",
      "Time taken: 0.002 seconds\n",
      "Time taken: 0.003 seconds\n",
      "Time taken: 0.003 seconds\n"
     ]
    },
    {
     "data": {
      "text/html": [
       "<div>\n",
       "<style scoped>\n",
       "    .dataframe tbody tr th:only-of-type {\n",
       "        vertical-align: middle;\n",
       "    }\n",
       "\n",
       "    .dataframe tbody tr th {\n",
       "        vertical-align: top;\n",
       "    }\n",
       "\n",
       "    .dataframe thead th {\n",
       "        text-align: right;\n",
       "    }\n",
       "</style>\n",
       "<table border=\"1\" class=\"dataframe\">\n",
       "  <thead>\n",
       "    <tr style=\"text-align: right;\">\n",
       "      <th></th>\n",
       "      <th>RMSE</th>\n",
       "    </tr>\n",
       "  </thead>\n",
       "  <tbody>\n",
       "    <tr>\n",
       "      <th>0</th>\n",
       "      <td>7.959407</td>\n",
       "    </tr>\n",
       "    <tr>\n",
       "      <th>1</th>\n",
       "      <td>5.873228</td>\n",
       "    </tr>\n",
       "    <tr>\n",
       "      <th>2</th>\n",
       "      <td>6.627424</td>\n",
       "    </tr>\n",
       "    <tr>\n",
       "      <th>3</th>\n",
       "      <td>7.079379</td>\n",
       "    </tr>\n",
       "    <tr>\n",
       "      <th>4</th>\n",
       "      <td>9.657546</td>\n",
       "    </tr>\n",
       "    <tr>\n",
       "      <th>5</th>\n",
       "      <td>5.620302</td>\n",
       "    </tr>\n",
       "    <tr>\n",
       "      <th>6</th>\n",
       "      <td>9.610095</td>\n",
       "    </tr>\n",
       "    <tr>\n",
       "      <th>7</th>\n",
       "      <td>8.441078</td>\n",
       "    </tr>\n",
       "    <tr>\n",
       "      <th>8</th>\n",
       "      <td>7.916364</td>\n",
       "    </tr>\n",
       "    <tr>\n",
       "      <th>9</th>\n",
       "      <td>8.763025</td>\n",
       "    </tr>\n",
       "  </tbody>\n",
       "</table>\n",
       "</div>"
      ],
      "text/plain": [
       "       RMSE\n",
       "0  7.959407\n",
       "1  5.873228\n",
       "2  6.627424\n",
       "3  7.079379\n",
       "4  9.657546\n",
       "5  5.620302\n",
       "6  9.610095\n",
       "7  8.441078\n",
       "8  7.916364\n",
       "9  8.763025"
      ]
     },
     "execution_count": 613,
     "metadata": {},
     "output_type": "execute_result"
    }
   ],
   "source": [
    "np.random.seed(seed=13579)\n",
    "\n",
    "# Using full original dataset for cross validation\n",
    "\n",
    "# Length of each fold\n",
    "len_fold = np.int(len(boston_data)/ 10)\n",
    "\n",
    "# Randomly select folds\n",
    "fold_index = np.random.choice(range(len(boston_data)), (10, len_fold), replace=False)\n",
    "\n",
    "# Assign the folds\n",
    "for i in range(10):\n",
    "    boston_data.loc[fold_index[i], 'fold'] = i+1\n",
    "\n",
    "# Initialize vector for storing each iteration result\n",
    "RMSE_cv = np.zeros(10)\n",
    "t_cv = np.zeros(10)\n",
    "\n",
    "#Iteration\n",
    "for i in range(10):\n",
    "    bdata_train_fold = boston_data[boston_data['fold'] != (i+1)]\n",
    "    bdata_test_fold =  boston_data[boston_data['fold'] == (i+1)]\n",
    "    \n",
    "    #Normalizing the train and test set for each iteration\n",
    "    bdata_train_fold_norm = bdata_train_fold.copy()\n",
    "    for col in bdata_train_fold.columns:\n",
    "        if col!='MEDV':\n",
    "            bdata_train_fold_norm[col] = normalize(bdata_train_fold[col])\n",
    "    \n",
    "    bdata_test_fold_norm = bdata_test_fold.copy()\n",
    "    for col in bdata_test_fold.columns:\n",
    "        if col!='MEDV':\n",
    "            bdata_test_fold_norm[col] = normalize(bdata_test_fold[col])\n",
    "    \n",
    "    #Test RMSE\n",
    "    predicted, rmse, t = nneighbor(bdata_train_fold_norm[['CRIM','RM']].values,bdata_train_fold_norm['MEDV'].values,\n",
    "                                    bdata_test_fold_norm[['CRIM','RM']].values,bdata_test_fold_norm['MEDV'].values,2)\n",
    "    \n",
    "    RMSE_cv[i] = rmse\n",
    "    t_cv[i] = t\n",
    "\n",
    "RMSE_cv = pd.DataFrame(RMSE_cv,columns=['RMSE'])\n",
    "RMSE_cv"
   ]
  },
  {
   "cell_type": "code",
   "execution_count": 393,
   "metadata": {},
   "outputs": [
    {
     "data": {
      "text/plain": [
       "7.7547847620675014"
      ]
     },
     "execution_count": 393,
     "metadata": {},
     "output_type": "execute_result"
    }
   ],
   "source": [
    "#Average RMSE\n",
    "np.mean(RMSE_cv.RMSE)"
   ]
  },
  {
   "cell_type": "code",
   "execution_count": 614,
   "metadata": {},
   "outputs": [
    {
     "data": {
      "text/plain": [
       "0.022930383682250977"
      ]
     },
     "execution_count": 614,
     "metadata": {},
     "output_type": "execute_result"
    }
   ],
   "source": [
    "#Total runtime for prediction\n",
    "sum(t_cv)"
   ]
  },
  {
   "cell_type": "markdown",
   "metadata": {},
   "source": [
    "* Average RMSE: 7.75\n",
    "* Total Runtime (Prediction): 0.02 seconds"
   ]
  },
  {
   "cell_type": "markdown",
   "metadata": {},
   "source": [
    "### 2.6 K-Nearest Neighbors Algorithm\n",
    "\n",
    "Implement the K-Nearest Neighbors algorithm.  Using 10-fold cross validation and L2 normalization, report the RMSE for K=3 and the running time of the algorithm."
   ]
  },
  {
   "cell_type": "code",
   "execution_count": 617,
   "metadata": {},
   "outputs": [
    {
     "name": "stdout",
     "output_type": "stream",
     "text": [
      "RMSE:\n",
      "5.74443464321911\n",
      "\n",
      "Time taken:\n",
      "0.05784463882446289\n"
     ]
    }
   ],
   "source": [
    "\"\"\"\n",
    "Using 10-fold cross-validation, compute the RMSE for K nearest neighbours.\n",
    "\n",
    "Parameters\n",
    "----------\n",
    "X : Coordinates of the points\n",
    "\n",
    "Y : Observed values of the points\n",
    "\n",
    "fold_num : int, Fold number for the point\n",
    "\n",
    "L : int, Value of L to be used in computing distances\n",
    "\n",
    "K : int, Value of K to be used in K nearest neighbours\n",
    "\n",
    "Returns\n",
    "-------\n",
    "rmse : float\n",
    "    Mean RMSE of all folds between the predicted and observed values.\n",
    "\n",
    "t : float\n",
    "    Duration (in seconds) to run the whole algorithm\n",
    "\"\"\"\n",
    "\n",
    "def knn(X,Y,fold_num, L, K):\n",
    "    # start the watch\n",
    "    t_start = time.time()\n",
    "    \n",
    "    #Storing vector for RMSE for 10 folds\n",
    "    rmse_folds = np.zeros(10)\n",
    "    \n",
    "    # Iterating through the folds\n",
    "    for i in range(10):   \n",
    "        #Train and Test for each fold \n",
    "        X_train = X[fold_num!=(i+1)]\n",
    "        Y_train = Y[fold_num!=(i+1)]\n",
    "        X_test = X[fold_num==(i+1)]\n",
    "        Y_test = Y[fold_num==(i+1)]\n",
    "        \n",
    "        # initiate the storage vector\n",
    "        Y_test_predicted = np.zeros(len(X_test))\n",
    "        \n",
    "        # Predicting the median house value\n",
    "        for j in range(len(X_test)):\n",
    "            # calculate distance\n",
    "            dist = distance(X_test[j], X_train, L)\n",
    "            # calculate the mean Y of the K nearest points\n",
    "            Y_test_predicted[j] = np.mean(Y_train[dist.argsort()[:K]])\n",
    "            \n",
    "        # RMSE\n",
    "        rmse_folds[i] = compute_rmse(Y_test_predicted, Y_test)\n",
    "        \n",
    "    t = time.time() - t_start\n",
    "    rmse = np.mean(rmse_folds)    \n",
    "    \n",
    "    return rmse,t\n",
    "\n",
    "#Normalizing complete dataset \n",
    "boston_data_norm = boston_data.copy()\n",
    "for col in boston_data.columns:\n",
    "    if (col!='MEDV') & (col!= 'fold'):\n",
    "        boston_data_norm[col] = normalize(boston_data[col])\n",
    "\n",
    "rmse, t = knn(boston_data_norm[['CRIM','RM']].values,boston_data_norm['MEDV'].values,boston_data_norm['fold'].values, 2, 3)\n",
    "\n",
    "print(\"RMSE:\")\n",
    "print(rmse)\n",
    "print()\n",
    "print(\"Time taken:\")\n",
    "print(t)"
   ]
  },
  {
   "cell_type": "markdown",
   "metadata": {},
   "source": [
    "### 2.7 Using cross validation to find K\n",
    "\n",
    "What is the best choice of K?  Compute the RMSE for values of K between 1 and 25 using 10-fold cross-validation.  Use the following features in your model, and don't forget to normalize: CRIM, ZN, RM, AGE, DIS, TAX.  Create a graph that shows how RMSE changes as K increases from 1 to 25.  Label your axes, and summarize what you see.  What do you think is a reasonable choice of K for this model?"
   ]
  },
  {
   "cell_type": "code",
   "execution_count": 331,
   "metadata": {},
   "outputs": [
    {
     "data": {
      "text/html": [
       "<div>\n",
       "<style scoped>\n",
       "    .dataframe tbody tr th:only-of-type {\n",
       "        vertical-align: middle;\n",
       "    }\n",
       "\n",
       "    .dataframe tbody tr th {\n",
       "        vertical-align: top;\n",
       "    }\n",
       "\n",
       "    .dataframe thead th {\n",
       "        text-align: right;\n",
       "    }\n",
       "</style>\n",
       "<table border=\"1\" class=\"dataframe\">\n",
       "  <thead>\n",
       "    <tr style=\"text-align: right;\">\n",
       "      <th></th>\n",
       "      <th>K</th>\n",
       "      <th>RMSE</th>\n",
       "    </tr>\n",
       "  </thead>\n",
       "  <tbody>\n",
       "    <tr>\n",
       "      <th>5</th>\n",
       "      <td>6</td>\n",
       "      <td>4.961010</td>\n",
       "    </tr>\n",
       "    <tr>\n",
       "      <th>6</th>\n",
       "      <td>7</td>\n",
       "      <td>5.010529</td>\n",
       "    </tr>\n",
       "    <tr>\n",
       "      <th>4</th>\n",
       "      <td>5</td>\n",
       "      <td>5.023038</td>\n",
       "    </tr>\n",
       "    <tr>\n",
       "      <th>7</th>\n",
       "      <td>8</td>\n",
       "      <td>5.042667</td>\n",
       "    </tr>\n",
       "    <tr>\n",
       "      <th>8</th>\n",
       "      <td>9</td>\n",
       "      <td>5.099706</td>\n",
       "    </tr>\n",
       "    <tr>\n",
       "      <th>3</th>\n",
       "      <td>4</td>\n",
       "      <td>5.119586</td>\n",
       "    </tr>\n",
       "    <tr>\n",
       "      <th>2</th>\n",
       "      <td>3</td>\n",
       "      <td>5.144164</td>\n",
       "    </tr>\n",
       "    <tr>\n",
       "      <th>9</th>\n",
       "      <td>10</td>\n",
       "      <td>5.189657</td>\n",
       "    </tr>\n",
       "    <tr>\n",
       "      <th>10</th>\n",
       "      <td>11</td>\n",
       "      <td>5.209078</td>\n",
       "    </tr>\n",
       "    <tr>\n",
       "      <th>11</th>\n",
       "      <td>12</td>\n",
       "      <td>5.226179</td>\n",
       "    </tr>\n",
       "    <tr>\n",
       "      <th>12</th>\n",
       "      <td>13</td>\n",
       "      <td>5.270416</td>\n",
       "    </tr>\n",
       "    <tr>\n",
       "      <th>13</th>\n",
       "      <td>14</td>\n",
       "      <td>5.279978</td>\n",
       "    </tr>\n",
       "    <tr>\n",
       "      <th>14</th>\n",
       "      <td>15</td>\n",
       "      <td>5.308405</td>\n",
       "    </tr>\n",
       "    <tr>\n",
       "      <th>15</th>\n",
       "      <td>16</td>\n",
       "      <td>5.317923</td>\n",
       "    </tr>\n",
       "    <tr>\n",
       "      <th>17</th>\n",
       "      <td>18</td>\n",
       "      <td>5.332193</td>\n",
       "    </tr>\n",
       "    <tr>\n",
       "      <th>16</th>\n",
       "      <td>17</td>\n",
       "      <td>5.337614</td>\n",
       "    </tr>\n",
       "    <tr>\n",
       "      <th>18</th>\n",
       "      <td>19</td>\n",
       "      <td>5.372525</td>\n",
       "    </tr>\n",
       "    <tr>\n",
       "      <th>1</th>\n",
       "      <td>2</td>\n",
       "      <td>5.386677</td>\n",
       "    </tr>\n",
       "    <tr>\n",
       "      <th>19</th>\n",
       "      <td>20</td>\n",
       "      <td>5.389537</td>\n",
       "    </tr>\n",
       "    <tr>\n",
       "      <th>20</th>\n",
       "      <td>21</td>\n",
       "      <td>5.395371</td>\n",
       "    </tr>\n",
       "    <tr>\n",
       "      <th>21</th>\n",
       "      <td>22</td>\n",
       "      <td>5.436904</td>\n",
       "    </tr>\n",
       "    <tr>\n",
       "      <th>22</th>\n",
       "      <td>23</td>\n",
       "      <td>5.442059</td>\n",
       "    </tr>\n",
       "    <tr>\n",
       "      <th>23</th>\n",
       "      <td>24</td>\n",
       "      <td>5.472538</td>\n",
       "    </tr>\n",
       "    <tr>\n",
       "      <th>24</th>\n",
       "      <td>25</td>\n",
       "      <td>5.520982</td>\n",
       "    </tr>\n",
       "    <tr>\n",
       "      <th>0</th>\n",
       "      <td>1</td>\n",
       "      <td>5.964874</td>\n",
       "    </tr>\n",
       "  </tbody>\n",
       "</table>\n",
       "</div>"
      ],
      "text/plain": [
       "     K      RMSE\n",
       "5    6  4.961010\n",
       "6    7  5.010529\n",
       "4    5  5.023038\n",
       "7    8  5.042667\n",
       "8    9  5.099706\n",
       "3    4  5.119586\n",
       "2    3  5.144164\n",
       "9   10  5.189657\n",
       "10  11  5.209078\n",
       "11  12  5.226179\n",
       "12  13  5.270416\n",
       "13  14  5.279978\n",
       "14  15  5.308405\n",
       "15  16  5.317923\n",
       "17  18  5.332193\n",
       "16  17  5.337614\n",
       "18  19  5.372525\n",
       "1    2  5.386677\n",
       "19  20  5.389537\n",
       "20  21  5.395371\n",
       "21  22  5.436904\n",
       "22  23  5.442059\n",
       "23  24  5.472538\n",
       "24  25  5.520982\n",
       "0    1  5.964874"
      ]
     },
     "execution_count": 331,
     "metadata": {},
     "output_type": "execute_result"
    }
   ],
   "source": [
    "rmse_K = np.zeros(25)\n",
    "\n",
    "for i in range(25):\n",
    "    rmse, t = knn(boston_data_norm[['CRIM','ZN','RM','AGE','DIS','TAX']].values,\n",
    "                  boston_data_norm['MEDV'].values,\n",
    "                  boston_data_norm['fold'].values, 2, i+1)\n",
    "    rmse_K[i] = rmse\n",
    "    \n",
    "rmse_K = pd.DataFrame(rmse_K,columns=['RMSE'])\n",
    "rmse_K.index.name = 'K'\n",
    "rmse_K=rmse_K.reset_index()\n",
    "rmse_K['K'] = rmse_K['K'] + 1\n",
    "rmse_K.sort_values(\"RMSE\")"
   ]
  },
  {
   "cell_type": "code",
   "execution_count": 357,
   "metadata": {},
   "outputs": [
    {
     "data": {
      "image/png": "[encoded data removed]",
      "text/plain": [
       "<Figure size 504x504 with 1 Axes>"
      ]
     },
     "metadata": {
      "needs_background": "light"
     },
     "output_type": "display_data"
    }
   ],
   "source": [
    "#Plotting\n",
    "fig = plt.figure(figsize=(7,7))\n",
    "ax = fig.add_subplot()\n",
    "\n",
    "ax.plot(rmse_K['K'], rmse_K['RMSE'],marker='o', c='green', alpha=0.5)\n",
    "\n",
    "ax.set_xlabel(\"K\")\n",
    "ax.set_ylabel(\"RMSE\")\n",
    "ax.set_title(\"RMSE with different values of K\");"
   ]
  },
  {
   "cell_type": "markdown",
   "metadata": {},
   "source": [
    "* Best choice of K for this data is 6.\n",
    "* As one can see in the graph, the RMSE decreases intitally with increase in the value of K, but after a point (K=6), it starts increasing again."
   ]
  },
  {
   "cell_type": "markdown",
   "metadata": {},
   "source": [
    "### Extra-Credit: Forward selection\n",
    "\n",
    "Thus far the choice of predictor variables has been rather arbitrary. For extra credit, implement a basic [forward selection](http://www.stat.ubc.ca/~rollin/teach/643w04/lec/node41.html) algorithm to progressively include features that decrease the cross-validated RMSE of the model. Note that the optimal value of K may be different for each model, so you may want to use cross-validation to choose K each time (but it is also fine if you fix K at the optimal value from 2.7).  Create a graph that shows RMSE as a function of the number of features in the model. Label each point on the x-axis with the name of the feature that is added at that step in the forward selection algorithm. *(For instance, if the optimal single-feature model has CRIM with RMSE = 10, and the optimal two-feature model has CRIM+ZN with RMSE=9, the first x-axis label will say CRIM and the second x-axis lable with say ZN)*"
   ]
  },
  {
   "cell_type": "code",
   "execution_count": 635,
   "metadata": {},
   "outputs": [],
   "source": [
    "#Forward Selection\n",
    "# Using K= 6 as found optimal in 2.7 above\n",
    "\n",
    "# Lsist of features\n",
    "all_feature_list = boston_data_norm.columns[0:13]\n",
    "\n",
    "#Number of features available \n",
    "num_features= len(all_feature_list)\n",
    "feature_RMSE = np.zeros(num_features)\n",
    "feature_list = []\n",
    "\n",
    "#Iteration on the total number of features\n",
    "for i in range(num_features):\n",
    "    test_RMSE=[]\n",
    "    test_feature_list = []\n",
    "    \n",
    "    for j in range(num_features):\n",
    "        if all_feature_list[j] not in feature_list:\n",
    "            test_features = copy.deepcopy(feature_list)\n",
    "            test_features.append(all_feature_list[j])\n",
    "            rmse, t = knn(boston_data_norm[test_features].values,\n",
    "                  boston_data_norm['MEDV'].values,\n",
    "                  boston_data_norm['fold'].values, 2, 6)\n",
    "            test_RMSE.append(rmse)\n",
    "            test_feature_list.append(all_feature_list[j])\n",
    "    \n",
    "    min_RMSE = np.argmin(test_RMSE)\n",
    "    feature_RMSE[i] = test_RMSE[min_RMSE]\n",
    "    feature_list.append(test_feature_list[min_RMSE])"
   ]
  },
  {
   "cell_type": "code",
   "execution_count": 644,
   "metadata": {},
   "outputs": [
    {
     "data": {
      "image/png": "[encoded data removed]",
      "text/plain": [
       "<Figure size 504x504 with 1 Axes>"
      ]
     },
     "metadata": {
      "needs_background": "light"
     },
     "output_type": "display_data"
    }
   ],
   "source": [
    "#Plotting\n",
    "fig = plt.figure(figsize=(7,7))\n",
    "ax = fig.add_subplot()\n",
    "\n",
    "ax.plot(np.arange(num_features), feature_RMSE,marker='o', c='blue', alpha=0.5)\n",
    "\n",
    "#X-tick labels\n",
    "x_tick_labels = []\n",
    "for i in range(num_features):\n",
    "    x_tick_labels.append('{}:{}'.format(i+1, feature_list[i]))\n",
    "                         \n",
    "ax.set_xlabel(\"Feature Added in every Iteration\")\n",
    "ax.set_xticks(np.arange(num_features))\n",
    "ax.set_xticklabels(x_tick_labels,rotation=45, ha='right')\n",
    "ax.set_ylabel(\"Mean RMSE\")\n",
    "ax.set_title(\"RMSE with different Features at K=6\");"
   ]
  }
 ],
 "metadata": {
  "kernelspec": {
   "display_name": "Python 3",
   "language": "python",
   "name": "python3"
  },
  "language_info": {
   "codemirror_mode": {
    "name": "ipython",
    "version": 3
   },
   "file_extension": ".py",
   "mimetype": "text/x-python",
   "name": "python",
   "nbconvert_exporter": "python",
   "pygments_lexer": "ipython3",
   "version": "3.7.3"
  }
 },
 "nbformat": 4,
 "nbformat_minor": 1
}
